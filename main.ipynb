{
 "cells": [
  {
   "cell_type": "code",
   "execution_count": 759,
   "metadata": {},
   "outputs": [],
   "source": [
    "import pandas as pd\n",
    "import seaborn as sns\n",
    "import matplotlib.pyplot as plt\n",
    "from scipy.stats import chi2_contingency\n",
    "import scipy.stats as stats\n",
    "import numpy as np\n",
    "from scipy.stats import mannwhitneyu\n",
    "\n",
    "from functions import * \n"
   ]
  },
  {
   "cell_type": "code",
   "execution_count": 760,
   "metadata": {},
   "outputs": [],
   "source": [
    "variation_test_csv = pd.read_csv('csv_files/df_final_experiment_clients.txt')\n",
    "footprint1_csv = pd.read_csv('csv_files/df_final_web_data_pt_1.txt')\n",
    "footprint2_csv = pd.read_csv('csv_files/df_final_web_data_pt_2.txt')\n",
    "customer_csv = pd.read_csv('csv_files/df_final_demo.txt')"
   ]
  },
  {
   "cell_type": "code",
   "execution_count": 761,
   "metadata": {},
   "outputs": [
    {
     "data": {
      "text/html": [
       "<div>\n",
       "<style scoped>\n",
       "    .dataframe tbody tr th:only-of-type {\n",
       "        vertical-align: middle;\n",
       "    }\n",
       "\n",
       "    .dataframe tbody tr th {\n",
       "        vertical-align: top;\n",
       "    }\n",
       "\n",
       "    .dataframe thead th {\n",
       "        text-align: right;\n",
       "    }\n",
       "</style>\n",
       "<table border=\"1\" class=\"dataframe\">\n",
       "  <thead>\n",
       "    <tr style=\"text-align: right;\">\n",
       "      <th></th>\n",
       "      <th>client_id</th>\n",
       "      <th>clnt_tenure_yr</th>\n",
       "      <th>clnt_tenure_mnth</th>\n",
       "      <th>clnt_age</th>\n",
       "      <th>gendr</th>\n",
       "      <th>num_accts</th>\n",
       "      <th>bal</th>\n",
       "      <th>calls_6_mnth</th>\n",
       "      <th>logons_6_mnth</th>\n",
       "    </tr>\n",
       "  </thead>\n",
       "  <tbody>\n",
       "    <tr>\n",
       "      <th>4</th>\n",
       "      <td>5126305</td>\n",
       "      <td>12.0</td>\n",
       "      <td>145.0</td>\n",
       "      <td>33.0</td>\n",
       "      <td>F</td>\n",
       "      <td>2.0</td>\n",
       "      <td>103671.75</td>\n",
       "      <td>0.0</td>\n",
       "      <td>3.0</td>\n",
       "    </tr>\n",
       "    <tr>\n",
       "      <th>5</th>\n",
       "      <td>3727881</td>\n",
       "      <td>5.0</td>\n",
       "      <td>71.0</td>\n",
       "      <td>30.5</td>\n",
       "      <td>U</td>\n",
       "      <td>2.0</td>\n",
       "      <td>23915.60</td>\n",
       "      <td>0.0</td>\n",
       "      <td>3.0</td>\n",
       "    </tr>\n",
       "    <tr>\n",
       "      <th>10</th>\n",
       "      <td>8368822</td>\n",
       "      <td>8.0</td>\n",
       "      <td>100.0</td>\n",
       "      <td>34.5</td>\n",
       "      <td>U</td>\n",
       "      <td>2.0</td>\n",
       "      <td>75578.54</td>\n",
       "      <td>0.0</td>\n",
       "      <td>3.0</td>\n",
       "    </tr>\n",
       "    <tr>\n",
       "      <th>17</th>\n",
       "      <td>3788589</td>\n",
       "      <td>10.0</td>\n",
       "      <td>122.0</td>\n",
       "      <td>32.5</td>\n",
       "      <td>M</td>\n",
       "      <td>2.0</td>\n",
       "      <td>30750.76</td>\n",
       "      <td>0.0</td>\n",
       "      <td>3.0</td>\n",
       "    </tr>\n",
       "    <tr>\n",
       "      <th>20</th>\n",
       "      <td>1502049</td>\n",
       "      <td>8.0</td>\n",
       "      <td>100.0</td>\n",
       "      <td>31.0</td>\n",
       "      <td>U</td>\n",
       "      <td>2.0</td>\n",
       "      <td>28952.15</td>\n",
       "      <td>0.0</td>\n",
       "      <td>3.0</td>\n",
       "    </tr>\n",
       "    <tr>\n",
       "      <th>...</th>\n",
       "      <td>...</td>\n",
       "      <td>...</td>\n",
       "      <td>...</td>\n",
       "      <td>...</td>\n",
       "      <td>...</td>\n",
       "      <td>...</td>\n",
       "      <td>...</td>\n",
       "      <td>...</td>\n",
       "      <td>...</td>\n",
       "    </tr>\n",
       "    <tr>\n",
       "      <th>622</th>\n",
       "      <td>9224876</td>\n",
       "      <td>23.0</td>\n",
       "      <td>278.0</td>\n",
       "      <td>37.0</td>\n",
       "      <td>M</td>\n",
       "      <td>2.0</td>\n",
       "      <td>53436.64</td>\n",
       "      <td>0.0</td>\n",
       "      <td>3.0</td>\n",
       "    </tr>\n",
       "    <tr>\n",
       "      <th>624</th>\n",
       "      <td>7176632</td>\n",
       "      <td>18.0</td>\n",
       "      <td>226.0</td>\n",
       "      <td>59.5</td>\n",
       "      <td>F</td>\n",
       "      <td>2.0</td>\n",
       "      <td>29811.11</td>\n",
       "      <td>0.0</td>\n",
       "      <td>3.0</td>\n",
       "    </tr>\n",
       "    <tr>\n",
       "      <th>628</th>\n",
       "      <td>4508825</td>\n",
       "      <td>5.0</td>\n",
       "      <td>71.0</td>\n",
       "      <td>26.5</td>\n",
       "      <td>U</td>\n",
       "      <td>2.0</td>\n",
       "      <td>42367.95</td>\n",
       "      <td>0.0</td>\n",
       "      <td>3.0</td>\n",
       "    </tr>\n",
       "    <tr>\n",
       "      <th>647</th>\n",
       "      <td>3010146</td>\n",
       "      <td>16.0</td>\n",
       "      <td>202.0</td>\n",
       "      <td>56.0</td>\n",
       "      <td>F</td>\n",
       "      <td>2.0</td>\n",
       "      <td>61579.65</td>\n",
       "      <td>0.0</td>\n",
       "      <td>3.0</td>\n",
       "    </tr>\n",
       "    <tr>\n",
       "      <th>648</th>\n",
       "      <td>9121026</td>\n",
       "      <td>8.0</td>\n",
       "      <td>106.0</td>\n",
       "      <td>48.5</td>\n",
       "      <td>F</td>\n",
       "      <td>2.0</td>\n",
       "      <td>36726.06</td>\n",
       "      <td>0.0</td>\n",
       "      <td>3.0</td>\n",
       "    </tr>\n",
       "  </tbody>\n",
       "</table>\n",
       "<p>90 rows × 9 columns</p>\n",
       "</div>"
      ],
      "text/plain": [
       "     client_id  clnt_tenure_yr  clnt_tenure_mnth  clnt_age gendr  num_accts  \\\n",
       "4      5126305            12.0             145.0      33.0     F        2.0   \n",
       "5      3727881             5.0              71.0      30.5     U        2.0   \n",
       "10     8368822             8.0             100.0      34.5     U        2.0   \n",
       "17     3788589            10.0             122.0      32.5     M        2.0   \n",
       "20     1502049             8.0             100.0      31.0     U        2.0   \n",
       "..         ...             ...               ...       ...   ...        ...   \n",
       "622    9224876            23.0             278.0      37.0     M        2.0   \n",
       "624    7176632            18.0             226.0      59.5     F        2.0   \n",
       "628    4508825             5.0              71.0      26.5     U        2.0   \n",
       "647    3010146            16.0             202.0      56.0     F        2.0   \n",
       "648    9121026             8.0             106.0      48.5     F        2.0   \n",
       "\n",
       "           bal  calls_6_mnth  logons_6_mnth  \n",
       "4    103671.75           0.0            3.0  \n",
       "5     23915.60           0.0            3.0  \n",
       "10    75578.54           0.0            3.0  \n",
       "17    30750.76           0.0            3.0  \n",
       "20    28952.15           0.0            3.0  \n",
       "..         ...           ...            ...  \n",
       "622   53436.64           0.0            3.0  \n",
       "624   29811.11           0.0            3.0  \n",
       "628   42367.95           0.0            3.0  \n",
       "647   61579.65           0.0            3.0  \n",
       "648   36726.06           0.0            3.0  \n",
       "\n",
       "[90 rows x 9 columns]"
      ]
     },
     "execution_count": 761,
     "metadata": {},
     "output_type": "execute_result"
    }
   ],
   "source": [
    "\n",
    "customer_csv.sort_values(by=['calls_6_mnth', 'logons_6_mnth'], ascending=True).head(90)\n"
   ]
  },
  {
   "cell_type": "code",
   "execution_count": 762,
   "metadata": {},
   "outputs": [
    {
     "data": {
      "image/png": "[encoded data removed]",
      "text/plain": [
       "<Figure size 800x600 with 1 Axes>"
      ]
     },
     "metadata": {},
     "output_type": "display_data"
    },
    {
     "data": {
      "text/plain": [
       "(       calls_6_mnth  logons_6_mnth\n",
       " count  70595.000000   70595.000000\n",
       " mean       3.382478       5.566740\n",
       " std        2.236580       2.353286\n",
       " min        0.000000       1.000000\n",
       " 25%        1.000000       4.000000\n",
       " 50%        3.000000       5.000000\n",
       " 75%        6.000000       7.000000\n",
       " max        7.000000       9.000000,\n",
       "                calls_6_mnth  logons_6_mnth\n",
       " calls_6_mnth       1.000000       0.822217\n",
       " logons_6_mnth      0.822217       1.000000)"
      ]
     },
     "execution_count": 762,
     "metadata": {},
     "output_type": "execute_result"
    }
   ],
   "source": [
    "\n",
    "# Descripción estadística\n",
    "desc_stats = customer_csv[['calls_6_mnth', 'logons_6_mnth']].describe()\n",
    "\n",
    "# Correlación entre llamadas y logins\n",
    "correlation = customer_csv[['calls_6_mnth', 'logons_6_mnth']].corr()\n",
    "\n",
    "# Visualización: Gráfico de dispersión\n",
    "plt.figure(figsize=(8, 6))\n",
    "sns.scatterplot(x='calls_6_mnth', y='logons_6_mnth', data=customer_csv)\n",
    "plt.title('Relación entre llamadas y logins en los últimos 6 meses')\n",
    "plt.xlabel('Llamadas en 6 meses')\n",
    "plt.ylabel('Logins en 6 meses')\n",
    "plt.grid(True)\n",
    "plt.show()\n",
    "\n",
    "# Mostrar estadísticas y correlación\n",
    "desc_stats, correlation"
   ]
  },
  {
   "cell_type": "markdown",
   "metadata": {},
   "source": [
    "# Limpieza pre-unión de DataFrames"
   ]
  },
  {
   "cell_type": "markdown",
   "metadata": {},
   "source": [
    "- **Renombramos la columna 'Variation' pasándola a 'variation'**: "
   ]
  },
  {
   "cell_type": "code",
   "execution_count": 763,
   "metadata": {},
   "outputs": [],
   "source": [
    "variation_test_csv.rename(columns={'Variation': 'variation'}, inplace=True)"
   ]
  },
  {
   "cell_type": "markdown",
   "metadata": {},
   "source": [
    "- **Eliminamos las filas con valores nulos en la columna 'variation'**\n",
    "- **Eliminamos clientes con valores nulos en la columna 'clnt_tenure_yr'**"
   ]
  },
  {
   "cell_type": "code",
   "execution_count": 764,
   "metadata": {},
   "outputs": [
    {
     "name": "stdout",
     "output_type": "stream",
     "text": [
      "Había 20109 filas con valores nulos que se han eliminado de variation\n",
      "Había 14 filas con valores nulos que se han eliminado de clnt_tenure_yr\n"
     ]
    }
   ],
   "source": [
    "drop_info_null(variation_test_csv,'variation')\n",
    "drop_info_null(customer_csv,'clnt_tenure_yr')"
   ]
  },
  {
   "cell_type": "markdown",
   "metadata": {},
   "source": [
    "- **Renombramos los valores que aparecen dentro de 'variation'**: Los convertimos en valores booleanos "
   ]
  },
  {
   "cell_type": "code",
   "execution_count": 765,
   "metadata": {},
   "outputs": [
    {
     "name": "stdout",
     "output_type": "stream",
     "text": [
      "Se han reemplazado los valores de la columna 'variation' según el diccionario proporcionado.\n"
     ]
    },
    {
     "name": "stderr",
     "output_type": "stream",
     "text": [
      "/Users/gabrielacaseromonge/Documents/GitHub/A-B_Testing/functions_copy.py:50: FutureWarning: Downcasting behavior in `replace` is deprecated and will be removed in a future version. To retain the old behavior, explicitly call `result.infer_objects(copy=False)`. To opt-in to the future behavior, set `pd.set_option('future.no_silent_downcasting', True)`\n",
      "  df[col] = df[col].replace(replace_dict)\n"
     ]
    }
   ],
   "source": [
    "variation_replace = {\"Test\": 1, \"Control\": 0}\n",
    "replace_values(variation_test_csv, 'variation', variation_replace)"
   ]
  },
  {
   "cell_type": "markdown",
   "metadata": {},
   "source": [
    "# Unión de DataFrames"
   ]
  },
  {
   "cell_type": "markdown",
   "metadata": {},
   "source": [
    "- **Concatenamos footprints**: "
   ]
  },
  {
   "cell_type": "code",
   "execution_count": 766,
   "metadata": {},
   "outputs": [],
   "source": [
    "footprint_csv = pd.concat([footprint1_csv, footprint2_csv], ignore_index=True)"
   ]
  },
  {
   "cell_type": "code",
   "execution_count": 767,
   "metadata": {},
   "outputs": [
    {
     "data": {
      "text/html": [
       "<div>\n",
       "<style scoped>\n",
       "    .dataframe tbody tr th:only-of-type {\n",
       "        vertical-align: middle;\n",
       "    }\n",
       "\n",
       "    .dataframe tbody tr th {\n",
       "        vertical-align: top;\n",
       "    }\n",
       "\n",
       "    .dataframe thead th {\n",
       "        text-align: right;\n",
       "    }\n",
       "</style>\n",
       "<table border=\"1\" class=\"dataframe\">\n",
       "  <thead>\n",
       "    <tr style=\"text-align: right;\">\n",
       "      <th></th>\n",
       "      <th>client_id</th>\n",
       "      <th>visitor_id</th>\n",
       "      <th>visit_id</th>\n",
       "      <th>process_step</th>\n",
       "      <th>date_time</th>\n",
       "    </tr>\n",
       "  </thead>\n",
       "  <tbody>\n",
       "    <tr>\n",
       "      <th>0</th>\n",
       "      <td>9988021</td>\n",
       "      <td>580560515_7732621733</td>\n",
       "      <td>781255054_21935453173_531117</td>\n",
       "      <td>step_3</td>\n",
       "      <td>2017-04-17 15:27:07</td>\n",
       "    </tr>\n",
       "    <tr>\n",
       "      <th>1</th>\n",
       "      <td>9988021</td>\n",
       "      <td>580560515_7732621733</td>\n",
       "      <td>781255054_21935453173_531117</td>\n",
       "      <td>step_2</td>\n",
       "      <td>2017-04-17 15:26:51</td>\n",
       "    </tr>\n",
       "    <tr>\n",
       "      <th>2</th>\n",
       "      <td>9988021</td>\n",
       "      <td>580560515_7732621733</td>\n",
       "      <td>781255054_21935453173_531117</td>\n",
       "      <td>step_3</td>\n",
       "      <td>2017-04-17 15:19:22</td>\n",
       "    </tr>\n",
       "    <tr>\n",
       "      <th>3</th>\n",
       "      <td>9988021</td>\n",
       "      <td>580560515_7732621733</td>\n",
       "      <td>781255054_21935453173_531117</td>\n",
       "      <td>step_2</td>\n",
       "      <td>2017-04-17 15:19:13</td>\n",
       "    </tr>\n",
       "    <tr>\n",
       "      <th>4</th>\n",
       "      <td>9988021</td>\n",
       "      <td>580560515_7732621733</td>\n",
       "      <td>781255054_21935453173_531117</td>\n",
       "      <td>step_3</td>\n",
       "      <td>2017-04-17 15:18:04</td>\n",
       "    </tr>\n",
       "    <tr>\n",
       "      <th>...</th>\n",
       "      <td>...</td>\n",
       "      <td>...</td>\n",
       "      <td>...</td>\n",
       "      <td>...</td>\n",
       "      <td>...</td>\n",
       "    </tr>\n",
       "    <tr>\n",
       "      <th>755400</th>\n",
       "      <td>9668240</td>\n",
       "      <td>388766751_9038881013</td>\n",
       "      <td>922267647_3096648104_968866</td>\n",
       "      <td>start</td>\n",
       "      <td>2017-05-24 18:46:10</td>\n",
       "    </tr>\n",
       "    <tr>\n",
       "      <th>755401</th>\n",
       "      <td>9668240</td>\n",
       "      <td>388766751_9038881013</td>\n",
       "      <td>922267647_3096648104_968866</td>\n",
       "      <td>start</td>\n",
       "      <td>2017-05-24 18:45:29</td>\n",
       "    </tr>\n",
       "    <tr>\n",
       "      <th>755402</th>\n",
       "      <td>9668240</td>\n",
       "      <td>388766751_9038881013</td>\n",
       "      <td>922267647_3096648104_968866</td>\n",
       "      <td>step_1</td>\n",
       "      <td>2017-05-24 18:44:51</td>\n",
       "    </tr>\n",
       "    <tr>\n",
       "      <th>755403</th>\n",
       "      <td>9668240</td>\n",
       "      <td>388766751_9038881013</td>\n",
       "      <td>922267647_3096648104_968866</td>\n",
       "      <td>start</td>\n",
       "      <td>2017-05-24 18:44:34</td>\n",
       "    </tr>\n",
       "    <tr>\n",
       "      <th>755404</th>\n",
       "      <td>674799</td>\n",
       "      <td>947159805_81558194550</td>\n",
       "      <td>86152093_47511127657_716022</td>\n",
       "      <td>start</td>\n",
       "      <td>2017-06-03 12:17:09</td>\n",
       "    </tr>\n",
       "  </tbody>\n",
       "</table>\n",
       "<p>755405 rows × 5 columns</p>\n",
       "</div>"
      ],
      "text/plain": [
       "        client_id             visitor_id                      visit_id  \\\n",
       "0         9988021   580560515_7732621733  781255054_21935453173_531117   \n",
       "1         9988021   580560515_7732621733  781255054_21935453173_531117   \n",
       "2         9988021   580560515_7732621733  781255054_21935453173_531117   \n",
       "3         9988021   580560515_7732621733  781255054_21935453173_531117   \n",
       "4         9988021   580560515_7732621733  781255054_21935453173_531117   \n",
       "...           ...                    ...                           ...   \n",
       "755400    9668240   388766751_9038881013   922267647_3096648104_968866   \n",
       "755401    9668240   388766751_9038881013   922267647_3096648104_968866   \n",
       "755402    9668240   388766751_9038881013   922267647_3096648104_968866   \n",
       "755403    9668240   388766751_9038881013   922267647_3096648104_968866   \n",
       "755404     674799  947159805_81558194550   86152093_47511127657_716022   \n",
       "\n",
       "       process_step            date_time  \n",
       "0            step_3  2017-04-17 15:27:07  \n",
       "1            step_2  2017-04-17 15:26:51  \n",
       "2            step_3  2017-04-17 15:19:22  \n",
       "3            step_2  2017-04-17 15:19:13  \n",
       "4            step_3  2017-04-17 15:18:04  \n",
       "...             ...                  ...  \n",
       "755400        start  2017-05-24 18:46:10  \n",
       "755401        start  2017-05-24 18:45:29  \n",
       "755402       step_1  2017-05-24 18:44:51  \n",
       "755403        start  2017-05-24 18:44:34  \n",
       "755404        start  2017-06-03 12:17:09  \n",
       "\n",
       "[755405 rows x 5 columns]"
      ]
     },
     "execution_count": 767,
     "metadata": {},
     "output_type": "execute_result"
    }
   ],
   "source": [
    "footprint_csv"
   ]
  },
  {
   "cell_type": "markdown",
   "metadata": {},
   "source": [
    "- **Corregimos los nombres de los pasos en process_step**: Ahora que tenemos juntos los dos data sets de footprints"
   ]
  },
  {
   "cell_type": "code",
   "execution_count": 768,
   "metadata": {},
   "outputs": [
    {
     "name": "stdout",
     "output_type": "stream",
     "text": [
      "Se han reemplazado los valores de la columna 'process_step' según el diccionario proporcionado.\n"
     ]
    },
    {
     "name": "stderr",
     "output_type": "stream",
     "text": [
      "/Users/gabrielacaseromonge/Documents/GitHub/A-B_Testing/functions_copy.py:50: FutureWarning: Downcasting behavior in `replace` is deprecated and will be removed in a future version. To retain the old behavior, explicitly call `result.infer_objects(copy=False)`. To opt-in to the future behavior, set `pd.set_option('future.no_silent_downcasting', True)`\n",
      "  df[col] = df[col].replace(replace_dict)\n"
     ]
    }
   ],
   "source": [
    "process_replace = {\"start\": 0, \"step_1\": 1, \"step_2\": 2, \"step_3\": 3, \"confirm\": 4}\n",
    "replace_values(footprint_csv, 'process_step', process_replace)"
   ]
  },
  {
   "cell_type": "markdown",
   "metadata": {},
   "source": [
    "- **Hacemos merge del DataFrame de variations con el de footprint**: Usando el valor común del client_id"
   ]
  },
  {
   "cell_type": "code",
   "execution_count": 769,
   "metadata": {},
   "outputs": [],
   "source": [
    "df=pd.merge(footprint_csv, variation_test_csv, on='client_id', how='left')    "
   ]
  },
  {
   "cell_type": "code",
   "execution_count": 770,
   "metadata": {},
   "outputs": [],
   "source": [
    "# este es el df de aquellos clientes que no tienen asignado un valor en la columna variation\n",
    "# con lo cual no aportan información en cuanto al AB testing\n",
    "missing_variation = footprint_csv[~footprint_csv['client_id'].isin(variation_test_csv['client_id'])]"
   ]
  },
  {
   "cell_type": "markdown",
   "metadata": {},
   "source": [
    "- **Hacemos el merge que queda**: Volvemos a usar client_id como punto de unión."
   ]
  },
  {
   "cell_type": "code",
   "execution_count": 771,
   "metadata": {},
   "outputs": [],
   "source": [
    "df = pd.merge(df, customer_csv, on='client_id', how='left').reset_index(drop=True)"
   ]
  },
  {
   "cell_type": "markdown",
   "metadata": {},
   "source": [
    "# Limpieza y control de los datos post merge"
   ]
  },
  {
   "cell_type": "markdown",
   "metadata": {},
   "source": [
    "- **Limpieza de valores nulos en variation**: Al ser un dato crucial no nos aporta información valiosa una fila de cliente sin este dato.\n",
    "Eliminamos las filas con valores nulos en variation con la seguridad de que están guardados en missing_variation\n",
    "- **Limpieza de valores nulos en clnt_tenure_yr**"
   ]
  },
  {
   "cell_type": "code",
   "execution_count": 772,
   "metadata": {},
   "outputs": [
    {
     "name": "stdout",
     "output_type": "stream",
     "text": [
      "Había 434096 filas con valores nulos que se han eliminado de variation\n",
      "Había 102 filas con valores nulos que se han eliminado de clnt_tenure_yr\n"
     ]
    }
   ],
   "source": [
    "drop_info_null(df,'variation')\n",
    "drop_info_null(df,'clnt_tenure_yr')"
   ]
  },
  {
   "cell_type": "code",
   "execution_count": 773,
   "metadata": {},
   "outputs": [
    {
     "data": {
      "text/plain": [
       "client_id            0\n",
       "visitor_id           0\n",
       "visit_id             0\n",
       "process_step         0\n",
       "date_time            0\n",
       "variation            0\n",
       "clnt_tenure_yr       0\n",
       "clnt_tenure_mnth     0\n",
       "clnt_age            12\n",
       "gendr                0\n",
       "num_accts            0\n",
       "bal                  0\n",
       "calls_6_mnth         0\n",
       "logons_6_mnth        0\n",
       "dtype: int64"
      ]
     },
     "execution_count": 773,
     "metadata": {},
     "output_type": "execute_result"
    }
   ],
   "source": [
    "df.isnull().sum()"
   ]
  },
  {
   "cell_type": "code",
   "execution_count": 774,
   "metadata": {},
   "outputs": [
    {
     "name": "stdout",
     "output_type": "stream",
     "text": [
      "clnt_tenure_yr      float64\n",
      "clnt_tenure_mnth    float64\n",
      "num_accts           float64\n",
      "variation           float64\n",
      "calls_6_mnth        float64\n",
      "logons_6_mnth       float64\n",
      "dtype: object\n"
     ]
    }
   ],
   "source": [
    "cols_to_convert = [\n",
    "    \"clnt_tenure_yr\",\n",
    "    \"clnt_tenure_mnth\",\n",
    "    \"num_accts\",\n",
    "    \"variation\",\n",
    "    \"calls_6_mnth\",\n",
    "    \"logons_6_mnth\"\n",
    "]\n",
    "print(df[cols_to_convert].dtypes)"
   ]
  },
  {
   "cell_type": "markdown",
   "metadata": {},
   "source": [
    "- **Conversión a int de floats**"
   ]
  },
  {
   "cell_type": "code",
   "execution_count": 775,
   "metadata": {},
   "outputs": [],
   "source": [
    "cols_to_convert = [\n",
    "    \"clnt_tenure_yr\",\n",
    "    \"clnt_tenure_mnth\",\n",
    "    \"num_accts\",\n",
    "    \"variation\",\n",
    "    \"calls_6_mnth\",\n",
    "    \"logons_6_mnth\"\n",
    "]\n",
    "\n",
    "for col in cols_to_convert:\n",
    "    # Si hay algún valor que no se puede convertir, usar `pd.to_numeric` con `errors='coerce'`\n",
    "    df[col] = df[col].astype(int)"
   ]
  },
  {
   "cell_type": "markdown",
   "metadata": {},
   "source": [
    "- **Examinamos los valores nulos** y los eliminamos ya que son muy pocos"
   ]
  },
  {
   "cell_type": "code",
   "execution_count": 776,
   "metadata": {},
   "outputs": [],
   "source": [
    "df.dropna(inplace=True)"
   ]
  },
  {
   "cell_type": "markdown",
   "metadata": {},
   "source": [
    "# Creación de rangos de edades"
   ]
  },
  {
   "cell_type": "code",
   "execution_count": 777,
   "metadata": {},
   "outputs": [],
   "source": [
    "df = categorize_age_groups(df, 'clnt_age', 'age_group', 17, 97, 5)"
   ]
  },
  {
   "cell_type": "markdown",
   "metadata": {},
   "source": [
    "# Análisis de los clientes\n",
    "\n"
   ]
  },
  {
   "cell_type": "markdown",
   "metadata": {},
   "source": [
    "- **Examinamos la edades**: Se comprueba que no existan edades que no tengan sentido y se crea un grupo con los outliers que nos interesen para poder analizarlo."
   ]
  },
  {
   "cell_type": "code",
   "execution_count": 778,
   "metadata": {},
   "outputs": [
    {
     "data": {
      "text/html": [
       "<div>\n",
       "<style scoped>\n",
       "    .dataframe tbody tr th:only-of-type {\n",
       "        vertical-align: middle;\n",
       "    }\n",
       "\n",
       "    .dataframe tbody tr th {\n",
       "        vertical-align: top;\n",
       "    }\n",
       "\n",
       "    .dataframe thead th {\n",
       "        text-align: right;\n",
       "    }\n",
       "</style>\n",
       "<table border=\"1\" class=\"dataframe\">\n",
       "  <thead>\n",
       "    <tr style=\"text-align: right;\">\n",
       "      <th></th>\n",
       "      <th>client_id</th>\n",
       "      <th>clnt_age</th>\n",
       "    </tr>\n",
       "  </thead>\n",
       "  <tbody>\n",
       "    <tr>\n",
       "      <th>14509</th>\n",
       "      <td>7953598</td>\n",
       "      <td>17.5</td>\n",
       "    </tr>\n",
       "    <tr>\n",
       "      <th>24437</th>\n",
       "      <td>5114008</td>\n",
       "      <td>17.5</td>\n",
       "    </tr>\n",
       "    <tr>\n",
       "      <th>33734</th>\n",
       "      <td>4996294</td>\n",
       "      <td>17.5</td>\n",
       "    </tr>\n",
       "    <tr>\n",
       "      <th>37287</th>\n",
       "      <td>7128753</td>\n",
       "      <td>17.5</td>\n",
       "    </tr>\n",
       "    <tr>\n",
       "      <th>38951</th>\n",
       "      <td>1273146</td>\n",
       "      <td>17.5</td>\n",
       "    </tr>\n",
       "    <tr>\n",
       "      <th>...</th>\n",
       "      <td>...</td>\n",
       "      <td>...</td>\n",
       "    </tr>\n",
       "    <tr>\n",
       "      <th>226347</th>\n",
       "      <td>8927242</td>\n",
       "      <td>17.5</td>\n",
       "    </tr>\n",
       "    <tr>\n",
       "      <th>236209</th>\n",
       "      <td>2064675</td>\n",
       "      <td>17.5</td>\n",
       "    </tr>\n",
       "    <tr>\n",
       "      <th>415436</th>\n",
       "      <td>9206649</td>\n",
       "      <td>96.0</td>\n",
       "    </tr>\n",
       "    <tr>\n",
       "      <th>492703</th>\n",
       "      <td>2364116</td>\n",
       "      <td>17.0</td>\n",
       "    </tr>\n",
       "    <tr>\n",
       "      <th>520387</th>\n",
       "      <td>2771150</td>\n",
       "      <td>17.0</td>\n",
       "    </tr>\n",
       "  </tbody>\n",
       "</table>\n",
       "<p>65 rows × 2 columns</p>\n",
       "</div>"
      ],
      "text/plain": [
       "        client_id  clnt_age\n",
       "14509     7953598      17.5\n",
       "24437     5114008      17.5\n",
       "33734     4996294      17.5\n",
       "37287     7128753      17.5\n",
       "38951     1273146      17.5\n",
       "...           ...       ...\n",
       "226347    8927242      17.5\n",
       "236209    2064675      17.5\n",
       "415436    9206649      96.0\n",
       "492703    2364116      17.0\n",
       "520387    2771150      17.0\n",
       "\n",
       "[65 rows x 2 columns]"
      ]
     },
     "execution_count": 778,
     "metadata": {},
     "output_type": "execute_result"
    }
   ],
   "source": [
    "outliers_age = df[(df['clnt_age'] < 18) | (df['clnt_age'] > 95)]\n",
    "outliers_grouped = outliers_age[['client_id', 'clnt_age']].drop_duplicates()\n",
    "outliers_grouped\n",
    "\n",
    "#podemos ver que hay clientes menores de 18, qué hacer con eso? "
   ]
  },
  {
   "cell_type": "markdown",
   "metadata": {},
   "source": [
    "**Creación de un df en el que analizar únicamente el tipo de cliente que nos interesa**"
   ]
  },
  {
   "cell_type": "code",
   "execution_count": 779,
   "metadata": {},
   "outputs": [],
   "source": [
    "client_analysis_df = df.copy()"
   ]
  },
  {
   "cell_type": "markdown",
   "metadata": {},
   "source": [
    "- **Creamos un group by client_id.** Ya que no interesa para el analisis del tipo de cliente que haya más de una fila por cada cliente, datos del tipo edad, genero, etc, no van a verse afectados por la columna date_time."
   ]
  },
  {
   "cell_type": "code",
   "execution_count": 780,
   "metadata": {},
   "outputs": [],
   "source": [
    "# Lista de columnas que usarán 'first'\n",
    "first_cols = [\n",
    "    'clnt_age',\n",
    "    'logons_6_mnth',\n",
    "    'clnt_tenure_yr',\n",
    "    'clnt_tenure_mnth',\n",
    "    'num_accts',\n",
    "    'bal',\n",
    "    'calls_6_mnth'\n",
    "]\n",
    "\n",
    "# Llamar a la función\n",
    "unique_client_analysis_df = unique_client_analysis(client_analysis_df, first_cols, 'gendr','client_id' )"
   ]
  },
  {
   "cell_type": "markdown",
   "metadata": {},
   "source": [
    "- **Hacemos un describe para entender los datos.** A grandes rasgos, y sin haber entrado todavía a limpiar en profundidad."
   ]
  },
  {
   "cell_type": "code",
   "execution_count": 781,
   "metadata": {},
   "outputs": [
    {
     "data": {
      "text/html": [
       "<div>\n",
       "<style scoped>\n",
       "    .dataframe tbody tr th:only-of-type {\n",
       "        vertical-align: middle;\n",
       "    }\n",
       "\n",
       "    .dataframe tbody tr th {\n",
       "        vertical-align: top;\n",
       "    }\n",
       "\n",
       "    .dataframe thead th {\n",
       "        text-align: right;\n",
       "    }\n",
       "</style>\n",
       "<table border=\"1\" class=\"dataframe\">\n",
       "  <thead>\n",
       "    <tr style=\"text-align: right;\">\n",
       "      <th></th>\n",
       "      <th>client_id</th>\n",
       "      <th>clnt_age</th>\n",
       "      <th>logons_6_mnth</th>\n",
       "      <th>clnt_tenure_yr</th>\n",
       "      <th>clnt_tenure_mnth</th>\n",
       "      <th>num_accts</th>\n",
       "      <th>bal</th>\n",
       "      <th>calls_6_mnth</th>\n",
       "    </tr>\n",
       "  </thead>\n",
       "  <tbody>\n",
       "    <tr>\n",
       "      <th>count</th>\n",
       "      <td>5.048700e+04</td>\n",
       "      <td>50487.000000</td>\n",
       "      <td>50487.000000</td>\n",
       "      <td>50487.000000</td>\n",
       "      <td>50487.000000</td>\n",
       "      <td>50487.000000</td>\n",
       "      <td>5.048700e+04</td>\n",
       "      <td>50487.000000</td>\n",
       "    </tr>\n",
       "    <tr>\n",
       "      <th>mean</th>\n",
       "      <td>5.006180e+06</td>\n",
       "      <td>47.319795</td>\n",
       "      <td>6.131856</td>\n",
       "      <td>12.031810</td>\n",
       "      <td>150.416365</td>\n",
       "      <td>2.254580</td>\n",
       "      <td>1.495168e+05</td>\n",
       "      <td>3.093272</td>\n",
       "    </tr>\n",
       "    <tr>\n",
       "      <th>std</th>\n",
       "      <td>2.877445e+06</td>\n",
       "      <td>15.518616</td>\n",
       "      <td>2.175441</td>\n",
       "      <td>6.860326</td>\n",
       "      <td>81.945403</td>\n",
       "      <td>0.533675</td>\n",
       "      <td>3.020390e+05</td>\n",
       "      <td>2.188009</td>\n",
       "    </tr>\n",
       "    <tr>\n",
       "      <th>min</th>\n",
       "      <td>5.550000e+02</td>\n",
       "      <td>17.000000</td>\n",
       "      <td>3.000000</td>\n",
       "      <td>2.000000</td>\n",
       "      <td>33.000000</td>\n",
       "      <td>1.000000</td>\n",
       "      <td>2.378944e+04</td>\n",
       "      <td>0.000000</td>\n",
       "    </tr>\n",
       "    <tr>\n",
       "      <th>25%</th>\n",
       "      <td>2.515688e+06</td>\n",
       "      <td>33.500000</td>\n",
       "      <td>4.000000</td>\n",
       "      <td>6.000000</td>\n",
       "      <td>82.000000</td>\n",
       "      <td>2.000000</td>\n",
       "      <td>3.987718e+04</td>\n",
       "      <td>1.000000</td>\n",
       "    </tr>\n",
       "    <tr>\n",
       "      <th>50%</th>\n",
       "      <td>5.025043e+06</td>\n",
       "      <td>48.000000</td>\n",
       "      <td>6.000000</td>\n",
       "      <td>11.000000</td>\n",
       "      <td>136.000000</td>\n",
       "      <td>2.000000</td>\n",
       "      <td>6.573433e+04</td>\n",
       "      <td>3.000000</td>\n",
       "    </tr>\n",
       "    <tr>\n",
       "      <th>75%</th>\n",
       "      <td>7.477922e+06</td>\n",
       "      <td>59.500000</td>\n",
       "      <td>8.000000</td>\n",
       "      <td>16.000000</td>\n",
       "      <td>192.000000</td>\n",
       "      <td>2.000000</td>\n",
       "      <td>1.399583e+05</td>\n",
       "      <td>5.000000</td>\n",
       "    </tr>\n",
       "    <tr>\n",
       "      <th>max</th>\n",
       "      <td>9.999832e+06</td>\n",
       "      <td>96.000000</td>\n",
       "      <td>9.000000</td>\n",
       "      <td>55.000000</td>\n",
       "      <td>669.000000</td>\n",
       "      <td>7.000000</td>\n",
       "      <td>1.632004e+07</td>\n",
       "      <td>6.000000</td>\n",
       "    </tr>\n",
       "  </tbody>\n",
       "</table>\n",
       "</div>"
      ],
      "text/plain": [
       "          client_id      clnt_age  logons_6_mnth  clnt_tenure_yr  \\\n",
       "count  5.048700e+04  50487.000000   50487.000000    50487.000000   \n",
       "mean   5.006180e+06     47.319795       6.131856       12.031810   \n",
       "std    2.877445e+06     15.518616       2.175441        6.860326   \n",
       "min    5.550000e+02     17.000000       3.000000        2.000000   \n",
       "25%    2.515688e+06     33.500000       4.000000        6.000000   \n",
       "50%    5.025043e+06     48.000000       6.000000       11.000000   \n",
       "75%    7.477922e+06     59.500000       8.000000       16.000000   \n",
       "max    9.999832e+06     96.000000       9.000000       55.000000   \n",
       "\n",
       "       clnt_tenure_mnth     num_accts           bal  calls_6_mnth  \n",
       "count      50487.000000  50487.000000  5.048700e+04  50487.000000  \n",
       "mean         150.416365      2.254580  1.495168e+05      3.093272  \n",
       "std           81.945403      0.533675  3.020390e+05      2.188009  \n",
       "min           33.000000      1.000000  2.378944e+04      0.000000  \n",
       "25%           82.000000      2.000000  3.987718e+04      1.000000  \n",
       "50%          136.000000      2.000000  6.573433e+04      3.000000  \n",
       "75%          192.000000      2.000000  1.399583e+05      5.000000  \n",
       "max          669.000000      7.000000  1.632004e+07      6.000000  "
      ]
     },
     "execution_count": 781,
     "metadata": {},
     "output_type": "execute_result"
    }
   ],
   "source": [
    "unique_client_analysis_df.describe()"
   ]
  },
  {
   "cell_type": "markdown",
   "metadata": {},
   "source": [
    "- **Creamos unas gráficas que nos ayuden a entender los datos.**"
   ]
  },
  {
   "cell_type": "code",
   "execution_count": 782,
   "metadata": {},
   "outputs": [
    {
     "data": {
      "image/png": "[encoded data removed]",
      "text/plain": [
       "<Figure size 1000x600 with 1 Axes>"
      ]
     },
     "metadata": {},
     "output_type": "display_data"
    },
    {
     "data": {
      "image/png": "[encoded data removed]",
      "text/plain": [
       "<Figure size 1000x600 with 1 Axes>"
      ]
     },
     "metadata": {},
     "output_type": "display_data"
    },
    {
     "data": {
      "image/png": "[encoded data removed]",
      "text/plain": [
       "<Figure size 1000x600 with 1 Axes>"
      ]
     },
     "metadata": {},
     "output_type": "display_data"
    }
   ],
   "source": [
    "# g´rafico de edad de clientes\n",
    "plot_distribution(unique_client_analysis_df, 'histplot', 'clnt_age', \n",
    "                  'Distribución de Edad de Clientes', 'Edad', 'Frecuencia', bins=20)\n",
    "\n",
    "# Gráfico de distribución de clientes por grupo de edad\n",
    "plot_distribution(df, 'countplot', 'age_group', \n",
    "                  'Distribución de Clientes por Grupo de Edad', 'Grupo de Edad', 'Frecuencia', \n",
    "                  rotation=45)  # Rota las etiquetas si son largas\n",
    "\n",
    "# Gráfico de distribución de género de clientes\n",
    "plot_distribution(unique_client_analysis_df, 'countplot', 'gendr', \n",
    "                  'Distribución de Género de Clientes', 'Género', 'Frecuencia')\n"
   ]
  },
  {
   "cell_type": "code",
   "execution_count": 783,
   "metadata": {},
   "outputs": [
    {
     "data": {
      "image/png": "[encoded data removed]",
      "text/plain": [
       "<Figure size 640x480 with 1 Axes>"
      ]
     },
     "metadata": {},
     "output_type": "display_data"
    }
   ],
   "source": [
    "sns.regplot(data=unique_client_analysis_df, x='logons_6_mnth', y='bal', scatter_kws={'alpha':0.3}, line_kws={'color':'red'})\n",
    "plt.title('Relación entre Logins y Balance con Línea de Regresión')\n",
    "plt.xlabel('Logins en 6 meses')\n",
    "plt.ylabel('Balance Total')\n",
    "plt.show()"
   ]
  },
  {
   "cell_type": "code",
   "execution_count": 784,
   "metadata": {},
   "outputs": [
    {
     "data": {
      "image/png": "[encoded data removed]",
      "text/plain": [
       "<Figure size 640x480 with 1 Axes>"
      ]
     },
     "metadata": {},
     "output_type": "display_data"
    }
   ],
   "source": [
    "balance_gender_logons = unique_client_analysis_df.groupby(['gendr', 'logons_6_mnth'])['bal'].mean().unstack()\n",
    "\n",
    "# Gráfico de barras apiladas\n",
    "balance_gender_logons.plot(kind='bar', stacked=True)\n",
    "plt.title('Promedio de Balance por Género y Logins en 6 meses')\n",
    "plt.xlabel('Género')\n",
    "plt.ylabel('Promedio de Balance Total')\n",
    "plt.show()"
   ]
  },
  {
   "cell_type": "code",
   "execution_count": 785,
   "metadata": {},
   "outputs": [
    {
     "data": {
      "image/png": "[encoded data removed]",
      "text/plain": [
       "<Figure size 640x480 with 1 Axes>"
      ]
     },
     "metadata": {},
     "output_type": "display_data"
    }
   ],
   "source": [
    "sns.boxplot(data=unique_client_analysis_df, x='gendr', y='bal')\n",
    "plt.title('Distribución del Balance por Género')\n",
    "plt.xlabel('Género')\n",
    "plt.ylabel('Balance Total')\n",
    "plt.show()"
   ]
  },
  {
   "cell_type": "markdown",
   "metadata": {},
   "source": [
    "- **Analizamos Skewness y Kurtosis de algunos datos**"
   ]
  },
  {
   "cell_type": "code",
   "execution_count": 786,
   "metadata": {},
   "outputs": [
    {
     "name": "stdout",
     "output_type": "stream",
     "text": [
      "skewness del balance: 11.47407650252342, hay un número significativo de clientes con balances muy altos\n",
      "Kurtosis del balance: 294.1124758573803, la distribución tiene una cantidad inusualmente alta de outliers.\n",
      "skewness del clnt_tenure_yr: 1.0317878940266119 hay un grupo pequeño de clientes leales que han estado mucho más tiempo en comparación con los nuevos clientes\n",
      "Kurtosis del clnt_tenure_yr: 1.0179025974588907, hay menos outliers en comparación con una distribución normal. La mayoría de los datos están más concentrados alrededor de la media\n"
     ]
    }
   ],
   "source": [
    "skewness_bal = unique_client_analysis_df['bal'].skew()\n",
    "kurtosis_bal = unique_client_analysis_df['bal'].kurtosis()\n",
    "\n",
    "print(f'skewness del balance: {skewness_bal}, hay un número significativo de clientes con balances muy altos')\n",
    "print(f'Kurtosis del balance: {kurtosis_bal}, la distribución tiene una cantidad inusualmente alta de outliers.')\n",
    "\n",
    "skewness_years = unique_client_analysis_df['clnt_tenure_yr'].skew()\n",
    "kurtosis_years = unique_client_analysis_df['clnt_tenure_yr'].kurtosis()\n",
    "\n",
    "print(f'skewness del clnt_tenure_yr: {skewness_years} hay un grupo pequeño de clientes leales que han estado mucho más tiempo en comparación con los nuevos clientes')\n",
    "print(f'Kurtosis del clnt_tenure_yr: {kurtosis_years}, hay menos outliers en comparación con una distribución normal. La mayoría de los datos están más concentrados alrededor de la media')"
   ]
  },
  {
   "cell_type": "markdown",
   "metadata": {},
   "source": [
    "- **Investigamos quiénes serían nuestros clientes VIP, estándar y otros:**\n",
    "Según el balance en las cuentas y número de cuentas"
   ]
  },
  {
   "cell_type": "code",
   "execution_count": 787,
   "metadata": {},
   "outputs": [
    {
     "data": {
      "text/html": [
       "<div>\n",
       "<style scoped>\n",
       "    .dataframe tbody tr th:only-of-type {\n",
       "        vertical-align: middle;\n",
       "    }\n",
       "\n",
       "    .dataframe tbody tr th {\n",
       "        vertical-align: top;\n",
       "    }\n",
       "\n",
       "    .dataframe thead th {\n",
       "        text-align: right;\n",
       "    }\n",
       "</style>\n",
       "<table border=\"1\" class=\"dataframe\">\n",
       "  <thead>\n",
       "    <tr style=\"text-align: right;\">\n",
       "      <th></th>\n",
       "      <th>client_id</th>\n",
       "      <th>gendr</th>\n",
       "      <th>clnt_age</th>\n",
       "      <th>logons_6_mnth</th>\n",
       "      <th>clnt_tenure_yr</th>\n",
       "      <th>clnt_tenure_mnth</th>\n",
       "      <th>num_accts</th>\n",
       "      <th>bal</th>\n",
       "      <th>calls_6_mnth</th>\n",
       "    </tr>\n",
       "  </thead>\n",
       "  <tbody>\n",
       "    <tr>\n",
       "      <th>46967</th>\n",
       "      <td>9286288</td>\n",
       "      <td>M</td>\n",
       "      <td>62.5</td>\n",
       "      <td>9</td>\n",
       "      <td>21</td>\n",
       "      <td>254</td>\n",
       "      <td>3</td>\n",
       "      <td>16320040.15</td>\n",
       "      <td>6</td>\n",
       "    </tr>\n",
       "    <tr>\n",
       "      <th>35733</th>\n",
       "      <td>7070097</td>\n",
       "      <td>M</td>\n",
       "      <td>53.0</td>\n",
       "      <td>9</td>\n",
       "      <td>11</td>\n",
       "      <td>133</td>\n",
       "      <td>2</td>\n",
       "      <td>8986419.77</td>\n",
       "      <td>6</td>\n",
       "    </tr>\n",
       "    <tr>\n",
       "      <th>47748</th>\n",
       "      <td>9440656</td>\n",
       "      <td>F</td>\n",
       "      <td>63.0</td>\n",
       "      <td>9</td>\n",
       "      <td>7</td>\n",
       "      <td>94</td>\n",
       "      <td>2</td>\n",
       "      <td>8292996.21</td>\n",
       "      <td>6</td>\n",
       "    </tr>\n",
       "    <tr>\n",
       "      <th>11501</th>\n",
       "      <td>2291985</td>\n",
       "      <td>M</td>\n",
       "      <td>41.0</td>\n",
       "      <td>4</td>\n",
       "      <td>7</td>\n",
       "      <td>85</td>\n",
       "      <td>2</td>\n",
       "      <td>8247729.97</td>\n",
       "      <td>1</td>\n",
       "    </tr>\n",
       "    <tr>\n",
       "      <th>8399</th>\n",
       "      <td>1678193</td>\n",
       "      <td>M</td>\n",
       "      <td>65.5</td>\n",
       "      <td>9</td>\n",
       "      <td>24</td>\n",
       "      <td>299</td>\n",
       "      <td>3</td>\n",
       "      <td>8137343.24</td>\n",
       "      <td>6</td>\n",
       "    </tr>\n",
       "    <tr>\n",
       "      <th>34140</th>\n",
       "      <td>6762377</td>\n",
       "      <td>F</td>\n",
       "      <td>41.5</td>\n",
       "      <td>9</td>\n",
       "      <td>16</td>\n",
       "      <td>193</td>\n",
       "      <td>3</td>\n",
       "      <td>8045102.60</td>\n",
       "      <td>6</td>\n",
       "    </tr>\n",
       "    <tr>\n",
       "      <th>17642</th>\n",
       "      <td>3519657</td>\n",
       "      <td>M</td>\n",
       "      <td>66.5</td>\n",
       "      <td>9</td>\n",
       "      <td>18</td>\n",
       "      <td>218</td>\n",
       "      <td>6</td>\n",
       "      <td>7741994.01</td>\n",
       "      <td>6</td>\n",
       "    </tr>\n",
       "    <tr>\n",
       "      <th>4950</th>\n",
       "      <td>987970</td>\n",
       "      <td>M</td>\n",
       "      <td>74.5</td>\n",
       "      <td>9</td>\n",
       "      <td>14</td>\n",
       "      <td>179</td>\n",
       "      <td>3</td>\n",
       "      <td>7339443.17</td>\n",
       "      <td>4</td>\n",
       "    </tr>\n",
       "    <tr>\n",
       "      <th>4313</th>\n",
       "      <td>857273</td>\n",
       "      <td>M</td>\n",
       "      <td>56.5</td>\n",
       "      <td>9</td>\n",
       "      <td>31</td>\n",
       "      <td>376</td>\n",
       "      <td>5</td>\n",
       "      <td>6716305.28</td>\n",
       "      <td>6</td>\n",
       "    </tr>\n",
       "    <tr>\n",
       "      <th>46993</th>\n",
       "      <td>9290030</td>\n",
       "      <td>M</td>\n",
       "      <td>67.5</td>\n",
       "      <td>8</td>\n",
       "      <td>28</td>\n",
       "      <td>341</td>\n",
       "      <td>4</td>\n",
       "      <td>6353000.43</td>\n",
       "      <td>5</td>\n",
       "    </tr>\n",
       "  </tbody>\n",
       "</table>\n",
       "</div>"
      ],
      "text/plain": [
       "       client_id gendr  clnt_age  logons_6_mnth  clnt_tenure_yr  \\\n",
       "46967    9286288     M      62.5              9              21   \n",
       "35733    7070097     M      53.0              9              11   \n",
       "47748    9440656     F      63.0              9               7   \n",
       "11501    2291985     M      41.0              4               7   \n",
       "8399     1678193     M      65.5              9              24   \n",
       "34140    6762377     F      41.5              9              16   \n",
       "17642    3519657     M      66.5              9              18   \n",
       "4950      987970     M      74.5              9              14   \n",
       "4313      857273     M      56.5              9              31   \n",
       "46993    9290030     M      67.5              8              28   \n",
       "\n",
       "       clnt_tenure_mnth  num_accts          bal  calls_6_mnth  \n",
       "46967               254          3  16320040.15             6  \n",
       "35733               133          2   8986419.77             6  \n",
       "47748                94          2   8292996.21             6  \n",
       "11501                85          2   8247729.97             1  \n",
       "8399                299          3   8137343.24             6  \n",
       "34140               193          3   8045102.60             6  \n",
       "17642               218          6   7741994.01             6  \n",
       "4950                179          3   7339443.17             4  \n",
       "4313                376          5   6716305.28             6  \n",
       "46993               341          4   6353000.43             5  "
      ]
     },
     "execution_count": 787,
     "metadata": {},
     "output_type": "execute_result"
    }
   ],
   "source": [
    "unique_client_analysis_df.sort_values('bal', ascending=False).head(10)"
   ]
  },
  {
   "cell_type": "code",
   "execution_count": 788,
   "metadata": {},
   "outputs": [],
   "source": [
    "df['client_type'] = classify_clients(df, 'bal', 'num_accts')"
   ]
  },
  {
   "cell_type": "markdown",
   "metadata": {},
   "source": [
    "- **A pesar de que los clientes VIP tienen de media un balance mucho mayor, los clientes estándar acumulan más balance como grupo, y lo mismo con el número de cuentas**\n"
   ]
  },
  {
   "cell_type": "code",
   "execution_count": 789,
   "metadata": {},
   "outputs": [
    {
     "data": {
      "image/png": "[encoded data removed]",
      "text/plain": [
       "<Figure size 1000x600 with 1 Axes>"
      ]
     },
     "metadata": {},
     "output_type": "display_data"
    },
    {
     "data": {
      "image/png": "[encoded data removed]",
      "text/plain": [
       "<Figure size 1000x600 with 1 Axes>"
      ]
     },
     "metadata": {},
     "output_type": "display_data"
    },
    {
     "data": {
      "image/png": "[encoded data removed]",
      "text/plain": [
       "<Figure size 1000x600 with 1 Axes>"
      ]
     },
     "metadata": {},
     "output_type": "display_data"
    },
    {
     "data": {
      "image/png": "[encoded data removed]",
      "text/plain": [
       "<Figure size 1000x600 with 1 Axes>"
      ]
     },
     "metadata": {},
     "output_type": "display_data"
    }
   ],
   "source": [
    "plot_separate_metrics_by_group(df, 'client_type', 'num_accts', 'accounts')  # Gráficos separados para cuentas\n",
    "plot_separate_metrics_by_group(df, 'client_type', 'bal', 'balance')  # Gráficos separados para balances\n"
   ]
  },
  {
   "cell_type": "markdown",
   "metadata": {},
   "source": [
    "- **Limpieza de gender**: Se examinan los distintos valores de gender que hay en el data set."
   ]
  },
  {
   "cell_type": "code",
   "execution_count": 790,
   "metadata": {},
   "outputs": [
    {
     "data": {
      "text/plain": [
       "gendr\n",
       "U    17280\n",
       "M    16947\n",
       "F    16258\n",
       "X        2\n",
       "Name: count, dtype: int64"
      ]
     },
     "execution_count": 790,
     "metadata": {},
     "output_type": "execute_result"
    }
   ],
   "source": [
    "unique_client_analysis_df['gendr'].value_counts()"
   ]
  },
  {
   "cell_type": "markdown",
   "metadata": {},
   "source": [
    "# Comprobaciones del Funcionamiento"
   ]
  },
  {
   "cell_type": "markdown",
   "metadata": {},
   "source": [
    "- **Confirmamos que es un test ciego**: Se comprueba que no exista relación entre el género y la variation"
   ]
  },
  {
   "cell_type": "code",
   "execution_count": 791,
   "metadata": {},
   "outputs": [
    {
     "name": "stdout",
     "output_type": "stream",
     "text": [
      "Chi2: 0.00034921226276692855, P-value: 0.9999982645682544\n",
      "Tabla de Contingencia Normalizada:\n",
      "variation         0         1\n",
      "gendr                        \n",
      "F          0.318846  0.329411\n",
      "M          0.336962  0.335739\n",
      "U          0.344193  0.334805\n",
      "X          0.000000  0.000045\n"
     ]
    }
   ],
   "source": [
    "# analizar la variación de género\n",
    "chi2_gender, p_gender, contingency_table_gender = analyze_contingency_table(client_analysis_df, 'gendr', 'variation')"
   ]
  },
  {
   "cell_type": "code",
   "execution_count": 792,
   "metadata": {},
   "outputs": [
    {
     "data": {
      "text/plain": [
       "7.814727903251179"
      ]
     },
     "execution_count": 792,
     "metadata": {},
     "output_type": "execute_result"
    }
   ],
   "source": [
    "# Calcular los grados de libertad gender_variation\n",
    "n_rows_gender_var = contingency_table_gender.shape[0]  # Número de filas\n",
    "n_col_gender_var = contingency_table_gender.shape[1]  # Número de columnas\n",
    "\n",
    "df_gender_var = (n_rows_gender_var - 1) * (n_col_gender_var - 1)\n",
    "\n",
    "# Definir nivel de significancia \n",
    "alpha = 0.05\n",
    "\n",
    "# Calcular el valor crítico \n",
    "valor_critico_gender_var = stats.chi2.ppf(1 - alpha, df_gender_var)\n",
    "valor_critico_gender_var"
   ]
  },
  {
   "cell_type": "code",
   "execution_count": 793,
   "metadata": {},
   "outputs": [
    {
     "data": {
      "image/png": "[encoded data removed]",
      "text/plain": [
       "<Figure size 640x480 with 1 Axes>"
      ]
     },
     "metadata": {},
     "output_type": "display_data"
    }
   ],
   "source": [
    "contingency_table_gender.plot(kind='bar', stacked=True)\n",
    "plt.title('Proporción de Género por variation')\n",
    "plt.xlabel('Género')\n",
    "plt.ylabel('Proporción')\n",
    "plt.xticks(rotation=0)\n",
    "plt.legend(title='Variación')\n",
    "plt.show()"
   ]
  },
  {
   "cell_type": "markdown",
   "metadata": {},
   "source": [
    "- **Confirmamos que es un test ciego**: Se comprueba que no exista relación entre la edad y la variation"
   ]
  },
  {
   "cell_type": "code",
   "execution_count": 794,
   "metadata": {},
   "outputs": [
    {
     "name": "stdout",
     "output_type": "stream",
     "text": [
      "Chi2: 0.016614219813777472, P-value: 1.0\n",
      "Tabla de Contingencia Normalizada:\n",
      "variation         0         1\n",
      "clnt_age                     \n",
      "17.0       0.000077  0.000045\n",
      "17.5       0.001255  0.001305\n",
      "18.0       0.001234  0.000787\n",
      "18.5       0.001764  0.002565\n",
      "19.0       0.001395  0.001451\n",
      "...             ...       ...\n",
      "93.5       0.000223  0.000000\n",
      "94.0       0.000084  0.000073\n",
      "94.5       0.000000  0.000028\n",
      "95.5       0.000000  0.000034\n",
      "96.0       0.000028  0.000034\n",
      "\n",
      "[158 rows x 2 columns]\n"
     ]
    }
   ],
   "source": [
    "# analizar la variación de edad\n",
    "chi2_age, p_age, contingency_table_age = analyze_contingency_table(client_analysis_df, 'clnt_age', 'variation')"
   ]
  },
  {
   "cell_type": "code",
   "execution_count": 795,
   "metadata": {},
   "outputs": [],
   "source": [
    "# Calcular los grados de libertad\n",
    "n_rows_age_variation = contingency_table_age.shape[0]  # Número de filas\n",
    "n_col_age_variation = contingency_table_age.shape[1]  # Número de columnas\n",
    "\n",
    "df_age_variation = (n_rows_age_variation - 1) * (n_col_age_variation - 1)"
   ]
  },
  {
   "cell_type": "code",
   "execution_count": 796,
   "metadata": {},
   "outputs": [
    {
     "data": {
      "text/plain": [
       "187.23886994495388"
      ]
     },
     "execution_count": 796,
     "metadata": {},
     "output_type": "execute_result"
    }
   ],
   "source": [
    "# Definir nivel de significancia\n",
    "alpha = 0.05\n",
    "\n",
    "# Calcular el valor crítico\n",
    "valor_critico_age_variation = stats.chi2.ppf(1 - alpha, df_age_variation)\n",
    "valor_critico_age_variation"
   ]
  },
  {
   "cell_type": "markdown",
   "metadata": {},
   "source": [
    "- **Tiempo transcurrido en cada paso**: Se registra cuánto tiempo se ha pasado en cada paso según la variation y el cliente.\n",
    "\n",
    "Empezamos por step y variation y más adelante lo relacionamos con el cliente"
   ]
  },
  {
   "cell_type": "code",
   "execution_count": 797,
   "metadata": {},
   "outputs": [
    {
     "name": "stdout",
     "output_type": "stream",
     "text": [
      "Tamaño final de df: (321195, 18)\n"
     ]
    },
    {
     "name": "stderr",
     "output_type": "stream",
     "text": [
      "/var/folders/b7/hph07_m53vv3yzmmfgf8b7fm0000gn/T/ipykernel_861/3883555272.py:11: FutureWarning: A value is trying to be set on a copy of a DataFrame or Series through chained assignment using an inplace method.\n",
      "The behavior will change in pandas 3.0. This inplace method will never work because the intermediate object on which we are setting values always behaves as a copy.\n",
      "\n",
      "For example, when doing 'df[col].method(value, inplace=True)', try using 'df.method({col: value}, inplace=True)' or df[col] = df[col].method(value) instead, to perform the operation inplace on the original object.\n",
      "\n",
      "\n",
      "  df['time_diff'].fillna(pd.Timedelta(seconds=0), inplace=True)\n",
      "/var/folders/b7/hph07_m53vv3yzmmfgf8b7fm0000gn/T/ipykernel_861/3883555272.py:17: FutureWarning: A value is trying to be set on a copy of a DataFrame or Series through chained assignment using an inplace method.\n",
      "The behavior will change in pandas 3.0. This inplace method will never work because the intermediate object on which we are setting values always behaves as a copy.\n",
      "\n",
      "For example, when doing 'df[col].method(value, inplace=True)', try using 'df.method({col: value}, inplace=True)' or df[col] = df[col].method(value) instead, to perform the operation inplace on the original object.\n",
      "\n",
      "\n",
      "  df['time_in_step'].fillna(pd.Timedelta(seconds=0), inplace=True)\n"
     ]
    }
   ],
   "source": [
    "# Ordenar el DataFrame\n",
    "df = df.sort_values(by=['client_id', 'visitor_id', 'visit_id', 'date_time'])\n",
    "\n",
    "# Convertir la columna de fecha y hora a tipo datetime\n",
    "df['date_time'] = pd.to_datetime(df['date_time'])\n",
    "\n",
    "# Calcular la diferencia de tiempo entre pasos\n",
    "df['time_diff'] = df.groupby(['client_id', 'visitor_id', 'visit_id'])['date_time'].diff(-1).abs()\n",
    "\n",
    "# Para evitar eliminar filas con dropna, podemos establecer un valor por defecto (por ejemplo, 0) o manejar NaN más adelante\n",
    "df['time_diff'].fillna(pd.Timedelta(seconds=0), inplace=True)\n",
    "\n",
    "# Calcular el tiempo en el paso anterior\n",
    "df['time_in_step'] = df['time_diff'].shift(1)\n",
    "\n",
    "# También puedes llenar los NaN en 'time_in_step' con un valor por defecto (0, por ejemplo) si no es crítico para tu análisis\n",
    "df['time_in_step'].fillna(pd.Timedelta(seconds=0), inplace=True)\n",
    "\n",
    "# Ahora, verifica que tienes todas las filas que necesitas\n",
    "print(f\"Tamaño final de df: {df.shape}\")"
   ]
  },
  {
   "cell_type": "markdown",
   "metadata": {},
   "source": [
    "- **En este gráfico con 100 medidas al azar por paso podemos ver que hay algunos outliers pero se observan diferencias entre las variaciones A y B y el tiempo pasado en los pasos**"
   ]
  },
  {
   "cell_type": "code",
   "execution_count": 798,
   "metadata": {},
   "outputs": [
    {
     "data": {
      "image/png": "[encoded data removed]",
      "text/plain": [
       "<Figure size 1200x600 with 1 Axes>"
      ]
     },
     "metadata": {},
     "output_type": "display_data"
    }
   ],
   "source": [
    "\n",
    "# 'time_in_step' en segundos\n",
    "df['time_in_step'] = df['time_in_step'].dt.total_seconds()\n",
    "\n",
    "\n",
    "# Seleccionamos 100 valores aleatorios del tiempo en cada step y cada variation\n",
    "sampled_data = df.groupby(['process_step', 'variation'])['time_in_step'].apply(\n",
    "    lambda x: x.sample(min(100, len(x)), random_state=1)\n",
    ").reset_index()\n",
    "\n",
    "# Creamos el gráfico\n",
    "plt.figure(figsize=(12, 6))\n",
    "sns.boxplot(x='process_step', y='time_in_step', hue='variation', data=sampled_data, palette='Set2')\n",
    "plt.title('Distribución del Tiempo en Cada Step por Variation')\n",
    "plt.xlabel('Paso del Proceso (process_step)')\n",
    "plt.ylabel('Tiempo en el Paso (segundos)')\n",
    "plt.xticks(rotation=45)\n",
    "plt.legend(title='Variation')\n",
    "plt.grid(True)\n",
    "plt.show()\n"
   ]
  },
  {
   "cell_type": "code",
   "execution_count": null,
   "metadata": {},
   "outputs": [],
   "source": []
  },
  {
   "cell_type": "markdown",
   "metadata": {},
   "source": [
    "- **Examinamos el tiempo medio pasado en cada step, antes y después de outliers**"
   ]
  },
  {
   "cell_type": "code",
   "execution_count": 799,
   "metadata": {},
   "outputs": [
    {
     "data": {
      "text/html": [
       "<div>\n",
       "<style scoped>\n",
       "    .dataframe tbody tr th:only-of-type {\n",
       "        vertical-align: middle;\n",
       "    }\n",
       "\n",
       "    .dataframe tbody tr th {\n",
       "        vertical-align: top;\n",
       "    }\n",
       "\n",
       "    .dataframe thead th {\n",
       "        text-align: right;\n",
       "    }\n",
       "</style>\n",
       "<table border=\"1\" class=\"dataframe\">\n",
       "  <thead>\n",
       "    <tr style=\"text-align: right;\">\n",
       "      <th></th>\n",
       "      <th>process_step</th>\n",
       "      <th>variation</th>\n",
       "      <th>avg_time_in_step</th>\n",
       "    </tr>\n",
       "  </thead>\n",
       "  <tbody>\n",
       "    <tr>\n",
       "      <th>0</th>\n",
       "      <td>0</td>\n",
       "      <td>0</td>\n",
       "      <td>53.099372</td>\n",
       "    </tr>\n",
       "    <tr>\n",
       "      <th>1</th>\n",
       "      <td>0</td>\n",
       "      <td>1</td>\n",
       "      <td>61.024074</td>\n",
       "    </tr>\n",
       "    <tr>\n",
       "      <th>2</th>\n",
       "      <td>1</td>\n",
       "      <td>0</td>\n",
       "      <td>42.590619</td>\n",
       "    </tr>\n",
       "    <tr>\n",
       "      <th>3</th>\n",
       "      <td>1</td>\n",
       "      <td>1</td>\n",
       "      <td>37.406627</td>\n",
       "    </tr>\n",
       "    <tr>\n",
       "      <th>4</th>\n",
       "      <td>2</td>\n",
       "      <td>0</td>\n",
       "      <td>38.503420</td>\n",
       "    </tr>\n",
       "    <tr>\n",
       "      <th>5</th>\n",
       "      <td>2</td>\n",
       "      <td>1</td>\n",
       "      <td>47.869779</td>\n",
       "    </tr>\n",
       "    <tr>\n",
       "      <th>6</th>\n",
       "      <td>3</td>\n",
       "      <td>0</td>\n",
       "      <td>92.248387</td>\n",
       "    </tr>\n",
       "    <tr>\n",
       "      <th>7</th>\n",
       "      <td>3</td>\n",
       "      <td>1</td>\n",
       "      <td>95.848849</td>\n",
       "    </tr>\n",
       "    <tr>\n",
       "      <th>8</th>\n",
       "      <td>4</td>\n",
       "      <td>0</td>\n",
       "      <td>123.037033</td>\n",
       "    </tr>\n",
       "    <tr>\n",
       "      <th>9</th>\n",
       "      <td>4</td>\n",
       "      <td>1</td>\n",
       "      <td>111.811790</td>\n",
       "    </tr>\n",
       "  </tbody>\n",
       "</table>\n",
       "</div>"
      ],
      "text/plain": [
       "   process_step  variation  avg_time_in_step\n",
       "0             0          0         53.099372\n",
       "1             0          1         61.024074\n",
       "2             1          0         42.590619\n",
       "3             1          1         37.406627\n",
       "4             2          0         38.503420\n",
       "5             2          1         47.869779\n",
       "6             3          0         92.248387\n",
       "7             3          1         95.848849\n",
       "8             4          0        123.037033\n",
       "9             4          1        111.811790"
      ]
     },
     "execution_count": 799,
     "metadata": {},
     "output_type": "execute_result"
    }
   ],
   "source": [
    "avg_time_step_var = df.groupby(['process_step', 'variation'])['time_in_step'].mean().reset_index()\n",
    "avg_time_step_var = avg_time_step_var.rename(columns={'time_in_step': 'avg_time_in_step'})\n",
    "avg_time_step_var"
   ]
  },
  {
   "cell_type": "code",
   "execution_count": 800,
   "metadata": {},
   "outputs": [
    {
     "data": {
      "text/html": [
       "<div>\n",
       "<style scoped>\n",
       "    .dataframe tbody tr th:only-of-type {\n",
       "        vertical-align: middle;\n",
       "    }\n",
       "\n",
       "    .dataframe tbody tr th {\n",
       "        vertical-align: top;\n",
       "    }\n",
       "\n",
       "    .dataframe thead th {\n",
       "        text-align: right;\n",
       "    }\n",
       "</style>\n",
       "<table border=\"1\" class=\"dataframe\">\n",
       "  <thead>\n",
       "    <tr style=\"text-align: right;\">\n",
       "      <th></th>\n",
       "      <th>process_step</th>\n",
       "      <th>variation</th>\n",
       "      <th>avg_time_in_step</th>\n",
       "    </tr>\n",
       "  </thead>\n",
       "  <tbody>\n",
       "    <tr>\n",
       "      <th>0</th>\n",
       "      <td>0</td>\n",
       "      <td>0</td>\n",
       "      <td>10.311868</td>\n",
       "    </tr>\n",
       "    <tr>\n",
       "      <th>1</th>\n",
       "      <td>0</td>\n",
       "      <td>1</td>\n",
       "      <td>16.818701</td>\n",
       "    </tr>\n",
       "    <tr>\n",
       "      <th>2</th>\n",
       "      <td>1</td>\n",
       "      <td>0</td>\n",
       "      <td>26.767953</td>\n",
       "    </tr>\n",
       "    <tr>\n",
       "      <th>3</th>\n",
       "      <td>1</td>\n",
       "      <td>1</td>\n",
       "      <td>20.699051</td>\n",
       "    </tr>\n",
       "    <tr>\n",
       "      <th>4</th>\n",
       "      <td>2</td>\n",
       "      <td>0</td>\n",
       "      <td>29.982799</td>\n",
       "    </tr>\n",
       "    <tr>\n",
       "      <th>5</th>\n",
       "      <td>2</td>\n",
       "      <td>1</td>\n",
       "      <td>32.122421</td>\n",
       "    </tr>\n",
       "    <tr>\n",
       "      <th>6</th>\n",
       "      <td>3</td>\n",
       "      <td>0</td>\n",
       "      <td>60.228593</td>\n",
       "    </tr>\n",
       "    <tr>\n",
       "      <th>7</th>\n",
       "      <td>3</td>\n",
       "      <td>1</td>\n",
       "      <td>62.257773</td>\n",
       "    </tr>\n",
       "    <tr>\n",
       "      <th>8</th>\n",
       "      <td>4</td>\n",
       "      <td>0</td>\n",
       "      <td>59.255931</td>\n",
       "    </tr>\n",
       "    <tr>\n",
       "      <th>9</th>\n",
       "      <td>4</td>\n",
       "      <td>1</td>\n",
       "      <td>45.651704</td>\n",
       "    </tr>\n",
       "  </tbody>\n",
       "</table>\n",
       "</div>"
      ],
      "text/plain": [
       "   process_step  variation  avg_time_in_step\n",
       "0             0          0         10.311868\n",
       "1             0          1         16.818701\n",
       "2             1          0         26.767953\n",
       "3             1          1         20.699051\n",
       "4             2          0         29.982799\n",
       "5             2          1         32.122421\n",
       "6             3          0         60.228593\n",
       "7             3          1         62.257773\n",
       "8             4          0         59.255931\n",
       "9             4          1         45.651704"
      ]
     },
     "execution_count": 800,
     "metadata": {},
     "output_type": "execute_result"
    }
   ],
   "source": [
    "# detectar outliers y definirlos, para repetir el proceso\n",
    "Q1 = df['time_in_step'].quantile(0.25)\n",
    "Q3 = df['time_in_step'].quantile(0.75)\n",
    "IQR = Q3 - Q1\n",
    "\n",
    "lower_bound = Q1 - 1.5 * IQR\n",
    "upper_bound = Q3 + 1.5 * IQR\n",
    "\n",
    "# eliminar outliers\n",
    "df_filtered = df[(df['time_in_step'] >= lower_bound) & (df['time_in_step'] <= upper_bound)]\n",
    "\n",
    "clean_avg_time_var_result = df_filtered.groupby(['process_step', 'variation'])['time_in_step'].mean().reset_index()\n",
    "clean_avg_time_var_result = clean_avg_time_var_result.rename(columns={'time_in_step': 'avg_time_in_step'})\n",
    "clean_avg_time_var_result"
   ]
  },
  {
   "cell_type": "code",
   "execution_count": 801,
   "metadata": {},
   "outputs": [],
   "source": [
    "# Renombrar la columna 'avg_time_in_step' en el segundo DataFrame\n",
    "clean_avg_time_var_result.rename(columns={'avg_time_in_step': 'avg_clean_time'}, inplace=True)\n",
    "\n",
    "# Renombrar la columna 'avg_time_in_step' en el primer DataFrame\n",
    "avg_time_step_var.rename(columns={'avg_time_in_step': 'avg_raw_time'}, inplace=True)\n",
    "\n",
    "time_step_df = pd.merge(clean_avg_time_var_result, avg_time_step_var, on=['process_step', 'variation'], how='outer')\n"
   ]
  },
  {
   "cell_type": "code",
   "execution_count": 804,
   "metadata": {},
   "outputs": [
    {
     "data": {
      "image/png": "[encoded data removed]",
      "text/plain": [
       "<Figure size 1200x700 with 1 Axes>"
      ]
     },
     "metadata": {},
     "output_type": "display_data"
    }
   ],
   "source": [
    "\n",
    "# Creamos el gráfico de barras\n",
    "plt.figure(figsize=(12, 7))\n",
    "sns.barplot(x='process_step', y='avg_clean_time', hue='variation', data=clean_avg_time_var_result, palette='Set2')\n",
    "\n",
    "# Configuración del gráfico\n",
    "plt.title('Tiempo Promedio en Cada Paso del Proceso por Variación')\n",
    "plt.xlabel('Paso del Proceso (process_step)')\n",
    "plt.ylabel('Tiempo Promedio en el Paso (segundos)')\n",
    "plt.xticks(rotation=45)\n",
    "handles, labels = plt.gca().get_legend_handles_labels()\n",
    "plt.legend(handles=handles, labels=['Original', 'Test'], title='Variación')\n",
    "plt.grid(True)\n",
    "\n",
    "\n",
    "# Mostramos el gráfico\n",
    "plt.show()"
   ]
  },
  {
   "cell_type": "markdown",
   "metadata": {},
   "source": [
    "- **Creamos una columna con el tiempo total que un mismo visit_id ha tardado en completar todos los pasos**"
   ]
  },
  {
   "cell_type": "code",
   "execution_count": 805,
   "metadata": {},
   "outputs": [
    {
     "name": "stderr",
     "output_type": "stream",
     "text": [
      "/var/folders/b7/hph07_m53vv3yzmmfgf8b7fm0000gn/T/ipykernel_861/1594267618.py:7: DeprecationWarning: DataFrameGroupBy.apply operated on the grouping columns. This behavior is deprecated, and in a future version of pandas the grouping columns will be excluded from the operation. Either pass `include_groups=False` to exclude the groupings or explicitly select the grouping columns after groupby to silence this warning.\n",
      "  total_time = success_visits.groupby('visit_id').apply(\n"
     ]
    }
   ],
   "source": [
    "# Asegurarse de que cada visit_id tenga los pasos en el orden 0, 1, 2, 3, 4\n",
    "success_visits = df.groupby('visit_id').filter(\n",
    "    lambda x: (x['process_step'].tolist() == [0, 1, 2, 3, 4]) and (len(x) == 5)\n",
    ")\n",
    "\n",
    "# Calcular el tiempo total solo para los visit_id válidos\n",
    "total_time = success_visits.groupby('visit_id').apply(\n",
    "    lambda x: x['date_time'].max() - x['date_time'].min()\n",
    ").reset_index()\n",
    "\n",
    "# Renombramos las columnas para que coincidan con el nombre del df original\n",
    "total_time.columns = ['visit_id', 'completion_time_s']\n",
    "\n",
    "# Convertimos completion_time a segundos directamente\n",
    "total_time['completion_time_s'] = pd.to_timedelta(total_time['completion_time_s']).dt.total_seconds()\n",
    "\n",
    "# Unimos la información de tiempo total al df original\n",
    "df = df.merge(total_time, on='visit_id', how='left')\n"
   ]
  },
  {
   "cell_type": "code",
   "execution_count": 806,
   "metadata": {},
   "outputs": [],
   "source": [
    "total_time.to_csv('csv_files/completion_time_df.csv', index=False)"
   ]
  },
  {
   "cell_type": "code",
   "execution_count": 807,
   "metadata": {},
   "outputs": [
    {
     "data": {
      "text/plain": [
       "client_id\n",
       "9288992    10\n",
       "4494718    10\n",
       "7002612    10\n",
       "7619785    10\n",
       "250165     10\n",
       "           ..\n",
       "3364495     5\n",
       "3364339     5\n",
       "3362885     5\n",
       "3362285     5\n",
       "9999729     5\n",
       "Name: count, Length: 19358, dtype: int64"
      ]
     },
     "execution_count": 807,
     "metadata": {},
     "output_type": "execute_result"
    }
   ],
   "source": [
    "success_visits['client_id'].value_counts()"
   ]
  },
  {
   "cell_type": "code",
   "execution_count": 808,
   "metadata": {},
   "outputs": [
    {
     "name": "stdout",
     "output_type": "stream",
     "text": [
      "Número de filas con process_step = 4: 43214\n",
      "Número de filas con completion_time no NaT: 96905\n"
     ]
    }
   ],
   "source": [
    "# Contar cuántas filas tienen process_step = 4\n",
    "count_process_step_4 = df[df['process_step'] == 4].shape[0]\n",
    "\n",
    "# Contar cuántas filas tienen completion_time no NaT\n",
    "count_completion_time_not_nan = df[pd.notna(df['completion_time_s'])].shape[0]\n",
    "\n",
    "# Mostrar resultados\n",
    "print(f\"Número de filas con process_step = 4: {count_process_step_4}\")\n",
    "print(f\"Número de filas con completion_time no NaT: {count_completion_time_not_nan}\")\n",
    "\n"
   ]
  },
  {
   "cell_type": "markdown",
   "metadata": {},
   "source": [
    "- **Veces que se ha completado el proceso**: Se registra cuántas veces por variation se ha llegado al último paso del proceso. "
   ]
  },
  {
   "cell_type": "code",
   "execution_count": 809,
   "metadata": {},
   "outputs": [
    {
     "data": {
      "text/html": [
       "<div>\n",
       "<style scoped>\n",
       "    .dataframe tbody tr th:only-of-type {\n",
       "        vertical-align: middle;\n",
       "    }\n",
       "\n",
       "    .dataframe tbody tr th {\n",
       "        vertical-align: top;\n",
       "    }\n",
       "\n",
       "    .dataframe thead th {\n",
       "        text-align: right;\n",
       "    }\n",
       "</style>\n",
       "<table border=\"1\" class=\"dataframe\">\n",
       "  <thead>\n",
       "    <tr style=\"text-align: right;\">\n",
       "      <th></th>\n",
       "      <th>visit_ids_step_4</th>\n",
       "      <th>total_visit_ids</th>\n",
       "      <th>success_percentage</th>\n",
       "    </tr>\n",
       "    <tr>\n",
       "      <th>variation</th>\n",
       "      <th></th>\n",
       "      <th></th>\n",
       "      <th></th>\n",
       "    </tr>\n",
       "  </thead>\n",
       "  <tbody>\n",
       "    <tr>\n",
       "      <th>0</th>\n",
       "      <td>16039</td>\n",
       "      <td>32181</td>\n",
       "      <td>49.839968</td>\n",
       "    </tr>\n",
       "    <tr>\n",
       "      <th>1</th>\n",
       "      <td>21725</td>\n",
       "      <td>37122</td>\n",
       "      <td>58.523248</td>\n",
       "    </tr>\n",
       "  </tbody>\n",
       "</table>\n",
       "</div>"
      ],
      "text/plain": [
       "           visit_ids_step_4  total_visit_ids  success_percentage\n",
       "variation                                                       \n",
       "0                     16039            32181           49.839968\n",
       "1                     21725            37122           58.523248"
      ]
     },
     "execution_count": 809,
     "metadata": {},
     "output_type": "execute_result"
    }
   ],
   "source": [
    "# 1. Filtrar los visit_id que alcanzaron el process_step 4\n",
    "visit_step4 = df[df['process_step'] == 4]\n",
    "\n",
    "# 2. Agrupar por variation y contar los visit_id únicos que alcanzaron el paso 4\n",
    "visit_step4_counts = visit_step4.groupby('variation')['visit_id'].nunique()\n",
    "\n",
    "# 3. Calcular el total de visit_id únicos por variation (sin filtrar por el step)\n",
    "total_visits_by_variation = df.groupby('variation')['visit_id'].nunique()\n",
    "\n",
    "# 4. Calcular el porcentaje de éxito para cada variación\n",
    "percentage_success = (visit_step4_counts / total_visits_by_variation) * 100\n",
    "\n",
    "# Mostrar el resultado\n",
    "result = pd.DataFrame({\n",
    "    'visit_ids_step_4': visit_step4_counts,\n",
    "    'total_visit_ids': total_visits_by_variation,\n",
    "    'success_percentage': percentage_success\n",
    "})\n",
    "\n",
    "result"
   ]
  },
  {
   "cell_type": "markdown",
   "metadata": {},
   "source": [
    "- **Veces en que se ha realizado un salto en steps que no es posible**: Se registra cuántas veces y en qué steps se ha pasado de un step a otro que no fuera el siguiente ni el anterior y en qué steps y variation ha ocurrido."
   ]
  },
  {
   "cell_type": "code",
   "execution_count": 810,
   "metadata": {},
   "outputs": [],
   "source": [
    "df = df[df['process_step'].isin([0, 1, 2, 3, 4])]\n",
    "df['process_step'] = df['process_step'].astype(int)\n",
    "\n",
    "resultado=salto_mayor_a_1(df)\n",
    "\n",
    "#clientes_con_salto = df.groupby(['client_id', 'visitor_id', 'visit_id']).apply(salto_mayor_a_1)\n"
   ]
  },
  {
   "cell_type": "code",
   "execution_count": 811,
   "metadata": {},
   "outputs": [
    {
     "name": "stderr",
     "output_type": "stream",
     "text": [
      "/var/folders/b7/hph07_m53vv3yzmmfgf8b7fm0000gn/T/ipykernel_861/3047390539.py:1: DeprecationWarning: DataFrameGroupBy.apply operated on the grouping columns. This behavior is deprecated, and in a future version of pandas the grouping columns will be excluded from the operation. Either pass `include_groups=False` to exclude the groupings or explicitly select the grouping columns after groupby to silence this warning.\n",
      "  df.groupby(['client_id', 'visitor_id', 'visit_id','process_step']).apply(salto_mayor_a_1)\n"
     ]
    },
    {
     "data": {
      "text/plain": [
       "client_id  visitor_id             visit_id                      process_step\n",
       "555        402506806_56087378777  637149525_38041617439_716659  0               False\n",
       "                                                                1               False\n",
       "                                                                2               False\n",
       "                                                                3               False\n",
       "                                                                4               False\n",
       "                                                                                ...  \n",
       "9999729    843385170_36953471821  493310979_9209676464_421146   0               False\n",
       "                                                                1               False\n",
       "                                                                2               False\n",
       "9999832    145538019_54444341400  472154369_16714624241_585315  0               False\n",
       "                                                                1               False\n",
       "Length: 239250, dtype: bool"
      ]
     },
     "execution_count": 811,
     "metadata": {},
     "output_type": "execute_result"
    }
   ],
   "source": [
    "df.groupby(['client_id', 'visitor_id', 'visit_id','process_step']).apply(salto_mayor_a_1)"
   ]
  },
  {
   "cell_type": "code",
   "execution_count": 812,
   "metadata": {},
   "outputs": [
    {
     "data": {
      "text/html": [
       "<div>\n",
       "<style scoped>\n",
       "    .dataframe tbody tr th:only-of-type {\n",
       "        vertical-align: middle;\n",
       "    }\n",
       "\n",
       "    .dataframe tbody tr th {\n",
       "        vertical-align: top;\n",
       "    }\n",
       "\n",
       "    .dataframe thead th {\n",
       "        text-align: right;\n",
       "    }\n",
       "</style>\n",
       "<table border=\"1\" class=\"dataframe\">\n",
       "  <thead>\n",
       "    <tr style=\"text-align: right;\">\n",
       "      <th></th>\n",
       "      <th>first_step</th>\n",
       "      <th>sec_step</th>\n",
       "      <th>count</th>\n",
       "    </tr>\n",
       "  </thead>\n",
       "  <tbody>\n",
       "    <tr>\n",
       "      <th>0</th>\n",
       "      <td>0</td>\n",
       "      <td>2</td>\n",
       "      <td>4901</td>\n",
       "    </tr>\n",
       "    <tr>\n",
       "      <th>1</th>\n",
       "      <td>0</td>\n",
       "      <td>3</td>\n",
       "      <td>7071</td>\n",
       "    </tr>\n",
       "    <tr>\n",
       "      <th>2</th>\n",
       "      <td>0</td>\n",
       "      <td>4</td>\n",
       "      <td>34139</td>\n",
       "    </tr>\n",
       "    <tr>\n",
       "      <th>3</th>\n",
       "      <td>1</td>\n",
       "      <td>3</td>\n",
       "      <td>1075</td>\n",
       "    </tr>\n",
       "    <tr>\n",
       "      <th>4</th>\n",
       "      <td>1</td>\n",
       "      <td>4</td>\n",
       "      <td>365</td>\n",
       "    </tr>\n",
       "    <tr>\n",
       "      <th>5</th>\n",
       "      <td>2</td>\n",
       "      <td>0</td>\n",
       "      <td>529</td>\n",
       "    </tr>\n",
       "    <tr>\n",
       "      <th>6</th>\n",
       "      <td>2</td>\n",
       "      <td>4</td>\n",
       "      <td>85</td>\n",
       "    </tr>\n",
       "    <tr>\n",
       "      <th>7</th>\n",
       "      <td>3</td>\n",
       "      <td>0</td>\n",
       "      <td>612</td>\n",
       "    </tr>\n",
       "    <tr>\n",
       "      <th>8</th>\n",
       "      <td>3</td>\n",
       "      <td>1</td>\n",
       "      <td>106</td>\n",
       "    </tr>\n",
       "    <tr>\n",
       "      <th>9</th>\n",
       "      <td>4</td>\n",
       "      <td>0</td>\n",
       "      <td>635</td>\n",
       "    </tr>\n",
       "    <tr>\n",
       "      <th>10</th>\n",
       "      <td>4</td>\n",
       "      <td>1</td>\n",
       "      <td>297</td>\n",
       "    </tr>\n",
       "    <tr>\n",
       "      <th>11</th>\n",
       "      <td>4</td>\n",
       "      <td>2</td>\n",
       "      <td>119</td>\n",
       "    </tr>\n",
       "  </tbody>\n",
       "</table>\n",
       "</div>"
      ],
      "text/plain": [
       "    first_step  sec_step  count\n",
       "0            0         2   4901\n",
       "1            0         3   7071\n",
       "2            0         4  34139\n",
       "3            1         3   1075\n",
       "4            1         4    365\n",
       "5            2         0    529\n",
       "6            2         4     85\n",
       "7            3         0    612\n",
       "8            3         1    106\n",
       "9            4         0    635\n",
       "10           4         1    297\n",
       "11           4         2    119"
      ]
     },
     "execution_count": 812,
     "metadata": {},
     "output_type": "execute_result"
    }
   ],
   "source": [
    "jumps = resultado.groupby(['first_step', 'sec_step'], as_index=False).agg(count=('first_step', 'count'))\n",
    "jumps"
   ]
  },
  {
   "cell_type": "markdown",
   "metadata": {},
   "source": [
    "- **Veces en las que se ha pasado tiempo insuficiente en un step**: Se registra cuántas veces se ha pasado al siguiente step demasiado rápido y se relaciona con la variation."
   ]
  },
  {
   "cell_type": "code",
   "execution_count": 813,
   "metadata": {},
   "outputs": [],
   "source": [
    "#code aquí"
   ]
  },
  {
   "cell_type": "markdown",
   "metadata": {},
   "source": [
    "- **Tasa de error**: Se registra la cantidad de veces que en lugar de avanzar en el proceso se ha retrocedido o saltado a otro paso que no correspondía. Porcentaje de errores de regresión en relación con el total de registros"
   ]
  },
  {
   "cell_type": "code",
   "execution_count": 814,
   "metadata": {},
   "outputs": [
    {
     "name": "stderr",
     "output_type": "stream",
     "text": [
      "/var/folders/b7/hph07_m53vv3yzmmfgf8b7fm0000gn/T/ipykernel_861/1033360614.py:18: DeprecationWarning: DataFrameGroupBy.apply operated on the grouping columns. This behavior is deprecated, and in a future version of pandas the grouping columns will be excluded from the operation. Either pass `include_groups=False` to exclude the groupings or explicitly select the grouping columns after groupby to silence this warning.\n",
      "  error_rate_by_variation = df.groupby('variation').apply(\n"
     ]
    },
    {
     "data": {
      "text/html": [
       "<div>\n",
       "<style scoped>\n",
       "    .dataframe tbody tr th:only-of-type {\n",
       "        vertical-align: middle;\n",
       "    }\n",
       "\n",
       "    .dataframe tbody tr th {\n",
       "        vertical-align: top;\n",
       "    }\n",
       "\n",
       "    .dataframe thead th {\n",
       "        text-align: right;\n",
       "    }\n",
       "</style>\n",
       "<table border=\"1\" class=\"dataframe\">\n",
       "  <thead>\n",
       "    <tr style=\"text-align: right;\">\n",
       "      <th></th>\n",
       "      <th>variation</th>\n",
       "      <th>error_rate</th>\n",
       "    </tr>\n",
       "  </thead>\n",
       "  <tbody>\n",
       "    <tr>\n",
       "      <th>0</th>\n",
       "      <td>0</td>\n",
       "      <td>6.701160</td>\n",
       "    </tr>\n",
       "    <tr>\n",
       "      <th>1</th>\n",
       "      <td>1</td>\n",
       "      <td>9.136776</td>\n",
       "    </tr>\n",
       "  </tbody>\n",
       "</table>\n",
       "</div>"
      ],
      "text/plain": [
       "   variation  error_rate\n",
       "0          0    6.701160\n",
       "1          1    9.136776"
      ]
     },
     "execution_count": 814,
     "metadata": {},
     "output_type": "execute_result"
    }
   ],
   "source": [
    "\n",
    "df.sort_values(['visit_id', 'date_time'], ascending=False)\n",
    "\n",
    "df['regr_error']=False \n",
    "\n",
    "df = df.reset_index(drop=True)\n",
    "\n",
    "df['next_process_step']=df['process_step'].shift(-1)\n",
    "df['next_visit_id']=df['visit_id'].shift(-1)\n",
    "\n",
    "for i in range(0,len(df)-1):\n",
    "    if (df.loc[i,'next_process_step'] < df.loc[i,'process_step'])and(df.loc[i,'next_visit_id']== df.loc[i,'visit_id']):\n",
    "        df.loc[i,'regr_error'] = True \n",
    "\n",
    "error_rate=df['regr_error'].sum()/len(df)*100\n",
    "error_rate\n",
    "\n",
    "# Ahora, calcular la tasa de error por variación\n",
    "error_rate_by_variation = df.groupby('variation').apply(\n",
    "    lambda x: x['regr_error'].sum() / len(x) * 100\n",
    ").reset_index(name='error_rate')\n",
    "\n",
    "# Renombrar las columnas para mayor claridad\n",
    "error_rate_by_variation.columns = ['variation', 'error_rate']\n",
    "\n",
    "# Mostrar los resultados\n",
    "error_rate_by_variation\n",
    "\n"
   ]
  },
  {
   "cell_type": "code",
   "execution_count": 815,
   "metadata": {},
   "outputs": [
    {
     "name": "stdout",
     "output_type": "stream",
     "text": [
      "Tasa de error general: 8.049315836174287\n",
      "Tasa de error por variación:\n",
      "   variation  error_rate\n",
      "0          0    6.701160\n",
      "1          1    9.136776\n"
     ]
    }
   ],
   "source": [
    "error_rate, df_with_errors = detect_regression_errors(df)\n",
    "error_rate_by_variation = calculate_error_rate_by_variation(df_with_errors)\n",
    "\n",
    "print(\"Tasa de error general:\", error_rate)\n",
    "print(\"Tasa de error por variación:\")\n",
    "print(error_rate_by_variation)"
   ]
  },
  {
   "cell_type": "code",
   "execution_count": 816,
   "metadata": {},
   "outputs": [
    {
     "data": {
      "text/html": [
       "<div>\n",
       "<style scoped>\n",
       "    .dataframe tbody tr th:only-of-type {\n",
       "        vertical-align: middle;\n",
       "    }\n",
       "\n",
       "    .dataframe tbody tr th {\n",
       "        vertical-align: top;\n",
       "    }\n",
       "\n",
       "    .dataframe thead th {\n",
       "        text-align: right;\n",
       "    }\n",
       "</style>\n",
       "<table border=\"1\" class=\"dataframe\">\n",
       "  <thead>\n",
       "    <tr style=\"text-align: right;\">\n",
       "      <th></th>\n",
       "      <th>client_id</th>\n",
       "      <th>visitor_id</th>\n",
       "      <th>visit_id</th>\n",
       "      <th>process_step</th>\n",
       "      <th>date_time</th>\n",
       "      <th>variation</th>\n",
       "      <th>clnt_tenure_yr</th>\n",
       "      <th>clnt_tenure_mnth</th>\n",
       "      <th>clnt_age</th>\n",
       "      <th>gendr</th>\n",
       "      <th>num_accts</th>\n",
       "      <th>bal</th>\n",
       "      <th>calls_6_mnth</th>\n",
       "      <th>logons_6_mnth</th>\n",
       "      <th>age_group</th>\n",
       "      <th>client_type</th>\n",
       "      <th>time_diff</th>\n",
       "      <th>time_in_step</th>\n",
       "      <th>completion_time_s</th>\n",
       "      <th>regr_error</th>\n",
       "      <th>next_process_step</th>\n",
       "      <th>next_visit_id</th>\n",
       "    </tr>\n",
       "  </thead>\n",
       "  <tbody>\n",
       "    <tr>\n",
       "      <th>0</th>\n",
       "      <td>555</td>\n",
       "      <td>402506806_56087378777</td>\n",
       "      <td>637149525_38041617439_716659</td>\n",
       "      <td>0</td>\n",
       "      <td>2017-04-15 12:57:56</td>\n",
       "      <td>1</td>\n",
       "      <td>3</td>\n",
       "      <td>46</td>\n",
       "      <td>29.5</td>\n",
       "      <td>U</td>\n",
       "      <td>2</td>\n",
       "      <td>25454.66</td>\n",
       "      <td>2</td>\n",
       "      <td>6</td>\n",
       "      <td>27-31</td>\n",
       "      <td>2</td>\n",
       "      <td>0 days 00:00:07</td>\n",
       "      <td>0.0</td>\n",
       "      <td>158.0</td>\n",
       "      <td>False</td>\n",
       "      <td>1.0</td>\n",
       "      <td>637149525_38041617439_716659</td>\n",
       "    </tr>\n",
       "    <tr>\n",
       "      <th>1</th>\n",
       "      <td>555</td>\n",
       "      <td>402506806_56087378777</td>\n",
       "      <td>637149525_38041617439_716659</td>\n",
       "      <td>1</td>\n",
       "      <td>2017-04-15 12:58:03</td>\n",
       "      <td>1</td>\n",
       "      <td>3</td>\n",
       "      <td>46</td>\n",
       "      <td>29.5</td>\n",
       "      <td>U</td>\n",
       "      <td>2</td>\n",
       "      <td>25454.66</td>\n",
       "      <td>2</td>\n",
       "      <td>6</td>\n",
       "      <td>27-31</td>\n",
       "      <td>2</td>\n",
       "      <td>0 days 00:00:32</td>\n",
       "      <td>7.0</td>\n",
       "      <td>158.0</td>\n",
       "      <td>False</td>\n",
       "      <td>2.0</td>\n",
       "      <td>637149525_38041617439_716659</td>\n",
       "    </tr>\n",
       "    <tr>\n",
       "      <th>2</th>\n",
       "      <td>555</td>\n",
       "      <td>402506806_56087378777</td>\n",
       "      <td>637149525_38041617439_716659</td>\n",
       "      <td>2</td>\n",
       "      <td>2017-04-15 12:58:35</td>\n",
       "      <td>1</td>\n",
       "      <td>3</td>\n",
       "      <td>46</td>\n",
       "      <td>29.5</td>\n",
       "      <td>U</td>\n",
       "      <td>2</td>\n",
       "      <td>25454.66</td>\n",
       "      <td>2</td>\n",
       "      <td>6</td>\n",
       "      <td>27-31</td>\n",
       "      <td>2</td>\n",
       "      <td>0 days 00:01:39</td>\n",
       "      <td>32.0</td>\n",
       "      <td>158.0</td>\n",
       "      <td>False</td>\n",
       "      <td>3.0</td>\n",
       "      <td>637149525_38041617439_716659</td>\n",
       "    </tr>\n",
       "    <tr>\n",
       "      <th>3</th>\n",
       "      <td>555</td>\n",
       "      <td>402506806_56087378777</td>\n",
       "      <td>637149525_38041617439_716659</td>\n",
       "      <td>3</td>\n",
       "      <td>2017-04-15 13:00:14</td>\n",
       "      <td>1</td>\n",
       "      <td>3</td>\n",
       "      <td>46</td>\n",
       "      <td>29.5</td>\n",
       "      <td>U</td>\n",
       "      <td>2</td>\n",
       "      <td>25454.66</td>\n",
       "      <td>2</td>\n",
       "      <td>6</td>\n",
       "      <td>27-31</td>\n",
       "      <td>2</td>\n",
       "      <td>0 days 00:00:20</td>\n",
       "      <td>99.0</td>\n",
       "      <td>158.0</td>\n",
       "      <td>False</td>\n",
       "      <td>4.0</td>\n",
       "      <td>637149525_38041617439_716659</td>\n",
       "    </tr>\n",
       "    <tr>\n",
       "      <th>4</th>\n",
       "      <td>555</td>\n",
       "      <td>402506806_56087378777</td>\n",
       "      <td>637149525_38041617439_716659</td>\n",
       "      <td>4</td>\n",
       "      <td>2017-04-15 13:00:34</td>\n",
       "      <td>1</td>\n",
       "      <td>3</td>\n",
       "      <td>46</td>\n",
       "      <td>29.5</td>\n",
       "      <td>U</td>\n",
       "      <td>2</td>\n",
       "      <td>25454.66</td>\n",
       "      <td>2</td>\n",
       "      <td>6</td>\n",
       "      <td>27-31</td>\n",
       "      <td>2</td>\n",
       "      <td>0 days 00:00:00</td>\n",
       "      <td>20.0</td>\n",
       "      <td>158.0</td>\n",
       "      <td>False</td>\n",
       "      <td>0.0</td>\n",
       "      <td>40369564_40101682850_311847</td>\n",
       "    </tr>\n",
       "    <tr>\n",
       "      <th>...</th>\n",
       "      <td>...</td>\n",
       "      <td>...</td>\n",
       "      <td>...</td>\n",
       "      <td>...</td>\n",
       "      <td>...</td>\n",
       "      <td>...</td>\n",
       "      <td>...</td>\n",
       "      <td>...</td>\n",
       "      <td>...</td>\n",
       "      <td>...</td>\n",
       "      <td>...</td>\n",
       "      <td>...</td>\n",
       "      <td>...</td>\n",
       "      <td>...</td>\n",
       "      <td>...</td>\n",
       "      <td>...</td>\n",
       "      <td>...</td>\n",
       "      <td>...</td>\n",
       "      <td>...</td>\n",
       "      <td>...</td>\n",
       "      <td>...</td>\n",
       "      <td>...</td>\n",
       "    </tr>\n",
       "    <tr>\n",
       "      <th>321190</th>\n",
       "      <td>9999729</td>\n",
       "      <td>843385170_36953471821</td>\n",
       "      <td>493310979_9209676464_421146</td>\n",
       "      <td>1</td>\n",
       "      <td>2017-04-20 14:22:49</td>\n",
       "      <td>1</td>\n",
       "      <td>10</td>\n",
       "      <td>124</td>\n",
       "      <td>31.0</td>\n",
       "      <td>F</td>\n",
       "      <td>3</td>\n",
       "      <td>107059.74</td>\n",
       "      <td>6</td>\n",
       "      <td>9</td>\n",
       "      <td>27-31</td>\n",
       "      <td>1</td>\n",
       "      <td>0 days 00:04:47</td>\n",
       "      <td>82.0</td>\n",
       "      <td>NaN</td>\n",
       "      <td>False</td>\n",
       "      <td>2.0</td>\n",
       "      <td>493310979_9209676464_421146</td>\n",
       "    </tr>\n",
       "    <tr>\n",
       "      <th>321191</th>\n",
       "      <td>9999729</td>\n",
       "      <td>843385170_36953471821</td>\n",
       "      <td>493310979_9209676464_421146</td>\n",
       "      <td>2</td>\n",
       "      <td>2017-04-20 14:27:36</td>\n",
       "      <td>1</td>\n",
       "      <td>10</td>\n",
       "      <td>124</td>\n",
       "      <td>31.0</td>\n",
       "      <td>F</td>\n",
       "      <td>3</td>\n",
       "      <td>107059.74</td>\n",
       "      <td>6</td>\n",
       "      <td>9</td>\n",
       "      <td>27-31</td>\n",
       "      <td>1</td>\n",
       "      <td>0 days 00:01:21</td>\n",
       "      <td>287.0</td>\n",
       "      <td>NaN</td>\n",
       "      <td>True</td>\n",
       "      <td>0.0</td>\n",
       "      <td>493310979_9209676464_421146</td>\n",
       "    </tr>\n",
       "    <tr>\n",
       "      <th>321192</th>\n",
       "      <td>9999729</td>\n",
       "      <td>843385170_36953471821</td>\n",
       "      <td>493310979_9209676464_421146</td>\n",
       "      <td>0</td>\n",
       "      <td>2017-04-20 14:28:57</td>\n",
       "      <td>1</td>\n",
       "      <td>10</td>\n",
       "      <td>124</td>\n",
       "      <td>31.0</td>\n",
       "      <td>F</td>\n",
       "      <td>3</td>\n",
       "      <td>107059.74</td>\n",
       "      <td>6</td>\n",
       "      <td>9</td>\n",
       "      <td>27-31</td>\n",
       "      <td>1</td>\n",
       "      <td>0 days 00:00:00</td>\n",
       "      <td>81.0</td>\n",
       "      <td>NaN</td>\n",
       "      <td>False</td>\n",
       "      <td>0.0</td>\n",
       "      <td>472154369_16714624241_585315</td>\n",
       "    </tr>\n",
       "    <tr>\n",
       "      <th>321193</th>\n",
       "      <td>9999832</td>\n",
       "      <td>145538019_54444341400</td>\n",
       "      <td>472154369_16714624241_585315</td>\n",
       "      <td>0</td>\n",
       "      <td>2017-05-16 16:46:03</td>\n",
       "      <td>1</td>\n",
       "      <td>23</td>\n",
       "      <td>281</td>\n",
       "      <td>49.0</td>\n",
       "      <td>F</td>\n",
       "      <td>2</td>\n",
       "      <td>431887.61</td>\n",
       "      <td>1</td>\n",
       "      <td>4</td>\n",
       "      <td>47-51</td>\n",
       "      <td>1</td>\n",
       "      <td>0 days 00:00:08</td>\n",
       "      <td>0.0</td>\n",
       "      <td>NaN</td>\n",
       "      <td>False</td>\n",
       "      <td>1.0</td>\n",
       "      <td>472154369_16714624241_585315</td>\n",
       "    </tr>\n",
       "    <tr>\n",
       "      <th>321194</th>\n",
       "      <td>9999832</td>\n",
       "      <td>145538019_54444341400</td>\n",
       "      <td>472154369_16714624241_585315</td>\n",
       "      <td>1</td>\n",
       "      <td>2017-05-16 16:46:11</td>\n",
       "      <td>1</td>\n",
       "      <td>23</td>\n",
       "      <td>281</td>\n",
       "      <td>49.0</td>\n",
       "      <td>F</td>\n",
       "      <td>2</td>\n",
       "      <td>431887.61</td>\n",
       "      <td>1</td>\n",
       "      <td>4</td>\n",
       "      <td>47-51</td>\n",
       "      <td>1</td>\n",
       "      <td>0 days 00:00:00</td>\n",
       "      <td>8.0</td>\n",
       "      <td>NaN</td>\n",
       "      <td>False</td>\n",
       "      <td>NaN</td>\n",
       "      <td>None</td>\n",
       "    </tr>\n",
       "  </tbody>\n",
       "</table>\n",
       "<p>321195 rows × 22 columns</p>\n",
       "</div>"
      ],
      "text/plain": [
       "        client_id             visitor_id                      visit_id  \\\n",
       "0             555  402506806_56087378777  637149525_38041617439_716659   \n",
       "1             555  402506806_56087378777  637149525_38041617439_716659   \n",
       "2             555  402506806_56087378777  637149525_38041617439_716659   \n",
       "3             555  402506806_56087378777  637149525_38041617439_716659   \n",
       "4             555  402506806_56087378777  637149525_38041617439_716659   \n",
       "...           ...                    ...                           ...   \n",
       "321190    9999729  843385170_36953471821   493310979_9209676464_421146   \n",
       "321191    9999729  843385170_36953471821   493310979_9209676464_421146   \n",
       "321192    9999729  843385170_36953471821   493310979_9209676464_421146   \n",
       "321193    9999832  145538019_54444341400  472154369_16714624241_585315   \n",
       "321194    9999832  145538019_54444341400  472154369_16714624241_585315   \n",
       "\n",
       "        process_step           date_time  variation  clnt_tenure_yr  \\\n",
       "0                  0 2017-04-15 12:57:56          1               3   \n",
       "1                  1 2017-04-15 12:58:03          1               3   \n",
       "2                  2 2017-04-15 12:58:35          1               3   \n",
       "3                  3 2017-04-15 13:00:14          1               3   \n",
       "4                  4 2017-04-15 13:00:34          1               3   \n",
       "...              ...                 ...        ...             ...   \n",
       "321190             1 2017-04-20 14:22:49          1              10   \n",
       "321191             2 2017-04-20 14:27:36          1              10   \n",
       "321192             0 2017-04-20 14:28:57          1              10   \n",
       "321193             0 2017-05-16 16:46:03          1              23   \n",
       "321194             1 2017-05-16 16:46:11          1              23   \n",
       "\n",
       "        clnt_tenure_mnth  clnt_age gendr  num_accts        bal  calls_6_mnth  \\\n",
       "0                     46      29.5     U          2   25454.66             2   \n",
       "1                     46      29.5     U          2   25454.66             2   \n",
       "2                     46      29.5     U          2   25454.66             2   \n",
       "3                     46      29.5     U          2   25454.66             2   \n",
       "4                     46      29.5     U          2   25454.66             2   \n",
       "...                  ...       ...   ...        ...        ...           ...   \n",
       "321190               124      31.0     F          3  107059.74             6   \n",
       "321191               124      31.0     F          3  107059.74             6   \n",
       "321192               124      31.0     F          3  107059.74             6   \n",
       "321193               281      49.0     F          2  431887.61             1   \n",
       "321194               281      49.0     F          2  431887.61             1   \n",
       "\n",
       "        logons_6_mnth age_group  client_type       time_diff  time_in_step  \\\n",
       "0                   6     27-31            2 0 days 00:00:07           0.0   \n",
       "1                   6     27-31            2 0 days 00:00:32           7.0   \n",
       "2                   6     27-31            2 0 days 00:01:39          32.0   \n",
       "3                   6     27-31            2 0 days 00:00:20          99.0   \n",
       "4                   6     27-31            2 0 days 00:00:00          20.0   \n",
       "...               ...       ...          ...             ...           ...   \n",
       "321190              9     27-31            1 0 days 00:04:47          82.0   \n",
       "321191              9     27-31            1 0 days 00:01:21         287.0   \n",
       "321192              9     27-31            1 0 days 00:00:00          81.0   \n",
       "321193              4     47-51            1 0 days 00:00:08           0.0   \n",
       "321194              4     47-51            1 0 days 00:00:00           8.0   \n",
       "\n",
       "        completion_time_s  regr_error  next_process_step  \\\n",
       "0                   158.0       False                1.0   \n",
       "1                   158.0       False                2.0   \n",
       "2                   158.0       False                3.0   \n",
       "3                   158.0       False                4.0   \n",
       "4                   158.0       False                0.0   \n",
       "...                   ...         ...                ...   \n",
       "321190                NaN       False                2.0   \n",
       "321191                NaN        True                0.0   \n",
       "321192                NaN       False                0.0   \n",
       "321193                NaN       False                1.0   \n",
       "321194                NaN       False                NaN   \n",
       "\n",
       "                       next_visit_id  \n",
       "0       637149525_38041617439_716659  \n",
       "1       637149525_38041617439_716659  \n",
       "2       637149525_38041617439_716659  \n",
       "3       637149525_38041617439_716659  \n",
       "4        40369564_40101682850_311847  \n",
       "...                              ...  \n",
       "321190   493310979_9209676464_421146  \n",
       "321191   493310979_9209676464_421146  \n",
       "321192  472154369_16714624241_585315  \n",
       "321193  472154369_16714624241_585315  \n",
       "321194                          None  \n",
       "\n",
       "[321195 rows x 22 columns]"
      ]
     },
     "execution_count": 816,
     "metadata": {},
     "output_type": "execute_result"
    }
   ],
   "source": [
    "df"
   ]
  },
  {
   "cell_type": "code",
   "execution_count": 817,
   "metadata": {},
   "outputs": [
    {
     "data": {
      "text/html": [
       "<div>\n",
       "<style scoped>\n",
       "    .dataframe tbody tr th:only-of-type {\n",
       "        vertical-align: middle;\n",
       "    }\n",
       "\n",
       "    .dataframe tbody tr th {\n",
       "        vertical-align: top;\n",
       "    }\n",
       "\n",
       "    .dataframe thead th {\n",
       "        text-align: right;\n",
       "    }\n",
       "</style>\n",
       "<table border=\"1\" class=\"dataframe\">\n",
       "  <thead>\n",
       "    <tr style=\"text-align: right;\">\n",
       "      <th></th>\n",
       "      <th>variation</th>\n",
       "      <th>average_time</th>\n",
       "    </tr>\n",
       "  </thead>\n",
       "  <tbody>\n",
       "    <tr>\n",
       "      <th>0</th>\n",
       "      <td>0</td>\n",
       "      <td>49.938957</td>\n",
       "    </tr>\n",
       "    <tr>\n",
       "      <th>1</th>\n",
       "      <td>1</td>\n",
       "      <td>51.998624</td>\n",
       "    </tr>\n",
       "  </tbody>\n",
       "</table>\n",
       "</div>"
      ],
      "text/plain": [
       "   variation  average_time\n",
       "0          0     49.938957\n",
       "1          1     51.998624"
      ]
     },
     "execution_count": 817,
     "metadata": {},
     "output_type": "execute_result"
    }
   ],
   "source": [
    "df_no_errors = filter_no_errors(df)  # Filtrar sin errores\n",
    "time_data = calculate_average_time_per_variation(df_no_errors)  # Calcular el tiempo promedio\n",
    "average_time_df_with_errors = create_average_time_dataframe(time_data)  # Crear DataFrame con los resultados\n",
    "\n",
    "average_time_df_with_errors"
   ]
  },
  {
   "cell_type": "code",
   "execution_count": 818,
   "metadata": {},
   "outputs": [
    {
     "data": {
      "text/html": [
       "<div>\n",
       "<style scoped>\n",
       "    .dataframe tbody tr th:only-of-type {\n",
       "        vertical-align: middle;\n",
       "    }\n",
       "\n",
       "    .dataframe tbody tr th {\n",
       "        vertical-align: top;\n",
       "    }\n",
       "\n",
       "    .dataframe thead th {\n",
       "        text-align: right;\n",
       "    }\n",
       "</style>\n",
       "<table border=\"1\" class=\"dataframe\">\n",
       "  <thead>\n",
       "    <tr style=\"text-align: right;\">\n",
       "      <th></th>\n",
       "      <th>variation</th>\n",
       "      <th>average_time</th>\n",
       "    </tr>\n",
       "  </thead>\n",
       "  <tbody>\n",
       "    <tr>\n",
       "      <th>0</th>\n",
       "      <td>0</td>\n",
       "      <td>25.640537</td>\n",
       "    </tr>\n",
       "    <tr>\n",
       "      <th>1</th>\n",
       "      <td>1</td>\n",
       "      <td>26.728033</td>\n",
       "    </tr>\n",
       "  </tbody>\n",
       "</table>\n",
       "</div>"
      ],
      "text/plain": [
       "   variation  average_time\n",
       "0          0     25.640537\n",
       "1          1     26.728033"
      ]
     },
     "execution_count": 818,
     "metadata": {},
     "output_type": "execute_result"
    }
   ],
   "source": [
    "df_filtered = filter_no_errors_and_outliers(df)  # Filtrar sin errores y outliers\n",
    "time_data = calculate_average_time_per_variation(df_filtered)  # Calcular el tiempo promedio\n",
    "average_time_df_clean = create_average_time_dataframe(time_data)  # Crear DataFrame con los resultados\n",
    "\n",
    "average_time_df_clean\n"
   ]
  },
  {
   "cell_type": "markdown",
   "metadata": {},
   "source": [
    "### Estadística ###"
   ]
  },
  {
   "cell_type": "code",
   "execution_count": 819,
   "metadata": {},
   "outputs": [
    {
     "name": "stdout",
     "output_type": "stream",
     "text": [
      "t-statistic: -7.926400435419628, p-value: 2.263054043650746e-15\n"
     ]
    }
   ],
   "source": [
    "#H0: age control website == age test website\n",
    "\n",
    "t_stat, p_value = stats.ttest_ind(\n",
    "    client_analysis_df[client_analysis_df['variation'] == 0]['clnt_age'],\n",
    "    client_analysis_df[client_analysis_df['variation'] == 1]['clnt_age']\n",
    ")\n",
    "print(f\"t-statistic: {t_stat}, p-value: {p_value}\")\n"
   ]
  },
  {
   "cell_type": "code",
   "execution_count": 820,
   "metadata": {},
   "outputs": [
    {
     "name": "stdout",
     "output_type": "stream",
     "text": [
      "Mann-Whitney U Test: U-statistic = 12535539628.0, p-value = 4.1256681803564804e-16\n"
     ]
    }
   ],
   "source": [
    "# Realizar el test de Mann-Whitney U\n",
    "u_stat, p_value = mannwhitneyu(\n",
    "    client_analysis_df[client_analysis_df['variation'] == 0]['clnt_age'],\n",
    "    client_analysis_df[client_analysis_df['variation'] == 1]['clnt_age']\n",
    ")\n",
    "\n",
    "print(f\"Mann-Whitney U Test: U-statistic = {u_stat}, p-value = {p_value}\")"
   ]
  },
  {
   "cell_type": "code",
   "execution_count": 821,
   "metadata": {},
   "outputs": [
    {
     "name": "stdout",
     "output_type": "stream",
     "text": [
      "Mean age - Control group: 48.30989554278701\n",
      "Mean age - Test group: 48.75001828030171\n",
      "Difference in mean age (Test - Control): 0.44012273751469877\n"
     ]
    }
   ],
   "source": [
    "# Calcular la media para cada grupo\n",
    "mean_control = client_analysis_df[client_analysis_df['variation'] == 0]['clnt_age'].mean()\n",
    "mean_test = client_analysis_df[client_analysis_df['variation'] == 1]['clnt_age'].mean()\n",
    "\n",
    "# Calcular la diferencia de medias\n",
    "diff_means = mean_test - mean_control\n",
    "\n",
    "print(f\"Mean age - Control group: {mean_control}\")\n",
    "print(f\"Mean age - Test group: {mean_test}\")\n",
    "print(f\"Difference in mean age (Test - Control): {diff_means}\")"
   ]
  },
  {
   "cell_type": "markdown",
   "metadata": {},
   "source": [
    "Aunque la diferencia en las edades es estadísticamente significativa (como ya viste por el bajo p-value), la magnitud de la diferencia en la media de edad es muy pequeña. Una diferencia de 0.44 años (menos de medio año) es probablemente insignificante desde un punto de vista práctico."
   ]
  },
  {
   "cell_type": "markdown",
   "metadata": {},
   "source": [
    "### Conclusión: Las edades del grupo de control (variante 0) y el grupo de prueba (variante 1) no son iguales, es decir, probablemente hay una diferencia real entre las dos versiones del sitio web en cuanto a las edades de los usuarios."
   ]
  },
  {
   "cell_type": "code",
   "execution_count": 822,
   "metadata": {},
   "outputs": [
    {
     "name": "stdout",
     "output_type": "stream",
     "text": [
      "t-statistic: -9.839124304028129, p-value: 7.694324640968301e-23\n"
     ]
    }
   ],
   "source": [
    "#H0: process_step 4 control website == process_step 4 test website\n",
    "\n",
    "t_stat, p_value = stats.ttest_ind(\n",
    "    client_analysis_df[client_analysis_df['variation'] == 0]['process_step'],\n",
    "    client_analysis_df[client_analysis_df['variation'] == 1]['process_step']\n",
    ")\n",
    "print(f\"t-statistic: {t_stat}, p-value: {p_value}\")\n"
   ]
  },
  {
   "cell_type": "code",
   "execution_count": 823,
   "metadata": {},
   "outputs": [
    {
     "name": "stdout",
     "output_type": "stream",
     "text": [
      "Mean process step - Control group: 1.5324389155416713\n",
      "Mean process step - Test group: 1.5818760651791188\n",
      "Difference in mean process step (Test - Control): 0.0494371496374475\n"
     ]
    }
   ],
   "source": [
    "# Calcular la media para cada grupo\n",
    "mean_control_process = client_analysis_df[client_analysis_df['variation'] == 0]['process_step'].mean()\n",
    "mean_test_process = client_analysis_df[client_analysis_df['variation'] == 1]['process_step'].mean()\n",
    "\n",
    "# Calcular la diferencia de medias\n",
    "diff_means_process = mean_test_process - mean_control_process\n",
    "\n",
    "print(f\"Mean process step - Control group: {mean_control_process}\")\n",
    "print(f\"Mean process step - Test group: {mean_test_process}\")\n",
    "print(f\"Difference in mean process step (Test - Control): {diff_means_process}\")"
   ]
  },
  {
   "cell_type": "markdown",
   "metadata": {},
   "source": [
    "Usamos ANOVA para hacer esta comparación porque estamos comparando varios grupos, más de 2, y es efectiva para evitar errores en esta situación. Analiza la variabilidad dentro de cada grupo (de las filas dentro de un grupo) y la variabilidad entre los grupos."
   ]
  },
  {
   "cell_type": "code",
   "execution_count": 824,
   "metadata": {},
   "outputs": [
    {
     "name": "stdout",
     "output_type": "stream",
     "text": [
      "Conteo por grupo de edad y variación:\n",
      "age_group  variation\n",
      "17-21      0             703\n",
      "           1             836\n",
      "22-26      0            2385\n",
      "           1            2732\n",
      "27-31      0            3203\n",
      "           1            3735\n",
      "32-36      0            2839\n",
      "           1            3350\n",
      "37-41      0            2428\n",
      "           1            2782\n",
      "42-46      0            2686\n",
      "           1            3108\n",
      "47-51      0            3013\n",
      "           1            3418\n",
      "52-56      0            3564\n",
      "           1            4239\n",
      "57-61      0            3814\n",
      "           1            4297\n",
      "62-66      0            3336\n",
      "           1            3946\n",
      "67-71      0            2241\n",
      "           1            2495\n",
      "72-76      0            1189\n",
      "           1            1279\n",
      "77-81      0             504\n",
      "           1             581\n",
      "82-86      0             219\n",
      "           1             284\n",
      "87-91      0              86\n",
      "           1              97\n",
      "92-96      0              25\n",
      "           1              11\n",
      "97+        0               0\n",
      "           1               0\n",
      "dtype: int64\n",
      "ANOVA F-statistic: 17.193465438536258, p-value: 2.1304284658048494e-92\n"
     ]
    },
    {
     "name": "stderr",
     "output_type": "stream",
     "text": [
      "/var/folders/b7/hph07_m53vv3yzmmfgf8b7fm0000gn/T/ipykernel_861/1832738281.py:23: FutureWarning: The default of observed=False is deprecated and will be changed to True in a future version of pandas. Pass observed=False to retain current behavior or observed=True to adopt the future default and silence this warning.\n",
      "  group_counts = result_df.groupby(['age_group', 'variation']).size()\n",
      "/var/folders/b7/hph07_m53vv3yzmmfgf8b7fm0000gn/T/ipykernel_861/1832738281.py:28: FutureWarning: The default of observed=False is deprecated and will be changed to True in a future version of pandas. Pass observed=False to retain current behavior or observed=True to adopt the future default and silence this warning.\n",
      "  valid_groups = result_df.groupby(['age_group', 'variation']).filter(lambda x: len(x) > 0)\n",
      "/var/folders/b7/hph07_m53vv3yzmmfgf8b7fm0000gn/T/ipykernel_861/1832738281.py:33: FutureWarning: The default of observed=False is deprecated and will be changed to True in a future version of pandas. Pass observed=False to retain current behavior or observed=True to adopt the future default and silence this warning.\n",
      "  groups_for_anova = [group['total_time'].values for name, group in valid_groups.groupby(['age_group', 'variation'])]\n"
     ]
    }
   ],
   "source": [
    "# Cargar datos (ejemplo)\n",
    "# df = pd.read_csv('ruta_a_tu_archivo.csv')\n",
    "\n",
    "# Asegúrate de que 'variation' esté en el DataFrame original\n",
    "if 'variation' not in df.columns:\n",
    "    print(\"La columna 'variation' no está en df. Asegúrate de que existe.\")\n",
    "else:\n",
    "    # Calcular tiempo total por cliente dentro de cada visita hasta el paso 4\n",
    "    total_time_per_client = (\n",
    "        df[df['process_step'] <= 4]\n",
    "        .groupby(['client_id', 'visit_id'])  # Agrupar por client_id y visit_id\n",
    "        .agg(total_time=('time_in_step', 'sum'))\n",
    "        .reset_index()\n",
    "    )\n",
    "\n",
    "    # Agrupar por edad y variación, considerando solo los IDs de cliente únicos\n",
    "    age_grouped = df[['client_id', 'age_group', 'variation']].drop_duplicates()\n",
    "\n",
    "    # Unir DataFrames\n",
    "    result_df = total_time_per_client.merge(age_grouped, on='client_id')\n",
    "\n",
    "    # Contar la cantidad de datos por grupo de edad y variación\n",
    "    group_counts = result_df.groupby(['age_group', 'variation']).size()\n",
    "    print(\"Conteo por grupo de edad y variación:\")\n",
    "    print(group_counts)\n",
    "\n",
    "    # Filtrar grupos vacíos\n",
    "    valid_groups = result_df.groupby(['age_group', 'variation']).filter(lambda x: len(x) > 0)\n",
    "\n",
    "    # Verificar si hay grupos válidos\n",
    "    if not valid_groups.empty:\n",
    "        # Obtener los grupos para ANOVA, excluyendo aquellos que no tienen datos\n",
    "        groups_for_anova = [group['total_time'].values for name, group in valid_groups.groupby(['age_group', 'variation'])]\n",
    "        \n",
    "        # Realizar ANOVA\n",
    "        anova_result = stats.f_oneway(*groups_for_anova)\n",
    "        print(f\"ANOVA F-statistic: {anova_result.statistic}, p-value: {anova_result.pvalue}\")\n",
    "    else:\n",
    "        print(\"No hay grupos válidos para realizar ANOVA.\")\n"
   ]
  },
  {
   "cell_type": "markdown",
   "metadata": {},
   "source": [
    "Estos resultados indican que hay diferencias significativas en los tiempos totales (total_time) entre al menos algunos de los grupos de edad (age_group). "
   ]
  },
  {
   "cell_type": "markdown",
   "metadata": {},
   "source": [
    "F-estadístico alto: Hay más variabilidad entre las medias de los grupos que dentro de los grupos.\n",
    "p-valor bajo: Un p-valor tan pequeño indica que es muy poco probable que las diferencias observadas sean el resultado de la variabilidad aleatoria. Rechazamos la hipótesis nula de que no hay diferencias significativas entre los grupos de edad en cuanto al tiempo total de pasar por los steps."
   ]
  },
  {
   "cell_type": "code",
   "execution_count": 825,
   "metadata": {},
   "outputs": [],
   "source": [
    "pd.set_option('display.max_columns', None)\n"
   ]
  },
  {
   "cell_type": "code",
   "execution_count": 827,
   "metadata": {},
   "outputs": [
    {
     "name": "stderr",
     "output_type": "stream",
     "text": [
      "/var/folders/b7/hph07_m53vv3yzmmfgf8b7fm0000gn/T/ipykernel_861/743330773.py:2: FutureWarning: The default of observed=False is deprecated and will be changed to True in a future version of pandas. Pass observed=False to retain current behavior or observed=True to adopt the future default and silence this warning.\n",
      "  mean_total_time_variation = result_df.groupby(['age_group', 'variation'])['total_time'].mean().reset_index()\n"
     ]
    },
    {
     "data": {
      "image/png": "[encoded data removed]",
      "text/plain": [
       "<Figure size 1400x800 with 1 Axes>"
      ]
     },
     "metadata": {},
     "output_type": "display_data"
    }
   ],
   "source": [
    "# Calcular la media de total_time por grupo de edad y variación\n",
    "mean_total_time_variation = result_df.groupby(['age_group', 'variation'])['total_time'].mean().reset_index()\n",
    "\n",
    "# Crear el gráfico de barras\n",
    "plt.figure(figsize=(14, 8))\n",
    "sns.barplot(x='age_group', y='total_time', hue='variation', data=mean_total_time_variation)\n",
    "\n",
    "# Añadir título y etiquetas\n",
    "plt.title('Media de Tiempo Total por Grupo de Edad y Variación')\n",
    "plt.xlabel('Grupo de Edad')\n",
    "plt.ylabel('Media de Tiempo Total (segundos)')\n",
    "plt.legend(title='Variación')\n",
    "\n",
    "# Mostrar el gráfico\n",
    "plt.xticks(rotation=45)  # Rotar las etiquetas del eje x para mejor legibilidad\n",
    "plt.show()\n"
   ]
  },
  {
   "cell_type": "code",
   "execution_count": 828,
   "metadata": {},
   "outputs": [
    {
     "name": "stdout",
     "output_type": "stream",
     "text": [
      "Coeficiente de correlación: 0.264, Valor p: 0.000\n",
      "Se rechaza la hipótesis nula: hay una correlación significativa entre el número de cuentas y el saldo.\n"
     ]
    }
   ],
   "source": [
    "# Correlación de Pearson\n",
    "corr_coefficient, p_value_corr = stats.pearsonr(df['num_accts'], df['bal'])\n",
    "\n",
    "print(f\"Coeficiente de correlación: {corr_coefficient:.3f}, Valor p: {p_value_corr:.3f}\")\n",
    "\n",
    "# Interpretar el resultado\n",
    "if p_value_corr < alpha:\n",
    "    print(\"Se rechaza la hipótesis nula: hay una correlación significativa entre el número de cuentas y el saldo.\")\n",
    "else:\n",
    "    print(\"No se rechaza la hipótesis nula: no hay correlación significativa entre el número de cuentas y el saldo.\")"
   ]
  },
  {
   "cell_type": "code",
   "execution_count": 829,
   "metadata": {},
   "outputs": [
    {
     "name": "stdout",
     "output_type": "stream",
     "text": [
      "Estadístico F: nan, Valor p: nan\n",
      "No se rechaza la hipótesis nula: no hay diferencia significativa en la duración de la relación del cliente entre grupos de edad.\n"
     ]
    },
    {
     "name": "stderr",
     "output_type": "stream",
     "text": [
      "/opt/anaconda3/lib/python3.12/site-packages/scipy/stats/_stats_py.py:4102: DegenerateDataWarning: at least one input has length 0\n",
      "  if _f_oneway_is_too_small(samples):\n"
     ]
    }
   ],
   "source": [
    "# Aplicando ANOVA\n",
    "f_stat, p_value_anova = stats.f_oneway(\n",
    "    df[df['age_group'] == '<30']['clnt_tenure_yr'].dropna(),\n",
    "    df[df['age_group'] == '30-40']['clnt_tenure_yr'].dropna(),\n",
    "    df[df['age_group'] == '40-50']['clnt_tenure_yr'].dropna(),\n",
    "    df[df['age_group'] == '50-60']['clnt_tenure_yr'].dropna(),\n",
    "    df[df['age_group'] == '60+']['clnt_tenure_yr'].dropna()\n",
    ")\n",
    "\n",
    "print(f\"Estadístico F: {f_stat:.3f}, Valor p: {p_value_anova:.3f}\")\n",
    "\n",
    "# Interpretar el resultado\n",
    "if p_value_anova < alpha:\n",
    "    print(\"Se rechaza la hipótesis nula: hay una diferencia significativa en la duración de la relación del cliente entre grupos de edad.\")\n",
    "else:\n",
    "    print(\"No se rechaza la hipótesis nula: no hay diferencia significativa en la duración de la relación del cliente entre grupos de edad.\")"
   ]
  },
  {
   "cell_type": "code",
   "execution_count": 830,
   "metadata": {},
   "outputs": [
    {
     "name": "stdout",
     "output_type": "stream",
     "text": [
      "Estadístico t: 50.406, Valor p: 0.000\n",
      "Se rechaza la hipótesis nula: hay una diferencia significativa en el saldo entre géneros.\n"
     ]
    }
   ],
   "source": [
    "df_male = df[df['gendr'] == 'M']['bal']\n",
    "df_female = df[df['gendr'] == 'F']['bal']\n",
    "\n",
    "# Realizando la prueba t de Student\n",
    "t_stat, p_value = stats.ttest_ind(df_male, df_female, equal_var=False)  # Usamos equal_var=False para la prueba de Welch\n",
    "\n",
    "print(f\"Estadístico t: {t_stat:.3f}, Valor p: {p_value:.3f}\")\n",
    "\n",
    "alpha = 0.05  # Nivel de significancia\n",
    "if p_value < alpha:\n",
    "    print(\"Se rechaza la hipótesis nula: hay una diferencia significativa en el saldo entre géneros.\")\n",
    "else:\n",
    "    print(\"No se rechaza la hipótesis nula: no hay diferencia significativa en el saldo entre géneros.\")"
   ]
  },
  {
   "cell_type": "code",
   "execution_count": 834,
   "metadata": {},
   "outputs": [],
   "source": []
  }
 ],
 "metadata": {
  "kernelspec": {
   "display_name": "base",
   "language": "python",
   "name": "python3"
  },
  "language_info": {
   "codemirror_mode": {
    "name": "ipython",
    "version": 3
   },
   "file_extension": ".py",
   "mimetype": "text/x-python",
   "name": "python",
   "nbconvert_exporter": "python",
   "pygments_lexer": "ipython3",
   "version": "3.12.4"
  }
 },
 "nbformat": 4,
 "nbformat_minor": 2
}
